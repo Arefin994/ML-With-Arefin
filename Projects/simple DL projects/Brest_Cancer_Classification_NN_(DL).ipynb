{
  "nbformat": 4,
  "nbformat_minor": 0,
  "metadata": {
    "colab": {
      "provenance": []
    },
    "kernelspec": {
      "name": "python3",
      "display_name": "Python 3"
    },
    "language_info": {
      "name": "python"
    }
  },
  "cells": [
    {
      "cell_type": "markdown",
      "source": [
        "### About the project"
      ],
      "metadata": {
        "id": "QrgMY1v_PrsA"
      }
    },
    {
      "cell_type": "markdown",
      "source": [],
      "metadata": {
        "id": "3P4lk33CPrp0"
      }
    },
    {
      "cell_type": "markdown",
      "source": [
        "### Workflow"
      ],
      "metadata": {
        "id": "LCXG9wzOPrnY"
      }
    },
    {
      "cell_type": "markdown",
      "source": [],
      "metadata": {
        "id": "n-SpoziBPrlI"
      }
    },
    {
      "cell_type": "markdown",
      "source": [
        "### Code"
      ],
      "metadata": {
        "id": "151RnYYiPrig"
      }
    },
    {
      "cell_type": "markdown",
      "source": [
        "#### Base Code"
      ],
      "metadata": {
        "id": "adI4OlrfTh2N"
      }
    },
    {
      "cell_type": "code",
      "execution_count": 66,
      "metadata": {
        "id": "JNGIxSSQPdps"
      },
      "outputs": [],
      "source": [
        "# importing dependencies\n",
        "import pandas as pd\n",
        "import numpy as np\n",
        "import matplotlib.pyplot as plt\n",
        "import seaborn as sns\n",
        "from sklearn.model_selection import train_test_split\n",
        "from sklearn.preprocessing import StandardScaler\n",
        "from sklearn.linear_model import LogisticRegression\n",
        "from sklearn.metrics import accuracy_score, confusion_matrix, classification_report"
      ]
    },
    {
      "cell_type": "code",
      "source": [
        "# reading the data into panda's dataFrame\n",
        "df = pd.read_csv(\"/content/breast_cancer_data.csv\")"
      ],
      "metadata": {
        "id": "X2XUbt0gQOCY"
      },
      "execution_count": 67,
      "outputs": []
    },
    {
      "cell_type": "code",
      "source": [
        "df.head()"
      ],
      "metadata": {
        "colab": {
          "base_uri": "https://localhost:8080/",
          "height": 273
        },
        "id": "NIodPOL7QbC7",
        "outputId": "d462b87d-ff6a-4f51-d2df-98ee76e5e292"
      },
      "execution_count": 68,
      "outputs": [
        {
          "output_type": "execute_result",
          "data": {
            "text/plain": [
              "         id diagnosis  radius_mean  texture_mean  perimeter_mean  area_mean  \\\n",
              "0    842302         M        17.99         10.38          122.80     1001.0   \n",
              "1    842517         M        20.57         17.77          132.90     1326.0   \n",
              "2  84300903         M        19.69         21.25          130.00     1203.0   \n",
              "3  84348301         M        11.42         20.38           77.58      386.1   \n",
              "4  84358402         M        20.29         14.34          135.10     1297.0   \n",
              "\n",
              "   smoothness_mean  compactness_mean  concavity_mean  concave points_mean  \\\n",
              "0          0.11840           0.27760          0.3001              0.14710   \n",
              "1          0.08474           0.07864          0.0869              0.07017   \n",
              "2          0.10960           0.15990          0.1974              0.12790   \n",
              "3          0.14250           0.28390          0.2414              0.10520   \n",
              "4          0.10030           0.13280          0.1980              0.10430   \n",
              "\n",
              "   ...  texture_worst  perimeter_worst  area_worst  smoothness_worst  \\\n",
              "0  ...          17.33           184.60      2019.0            0.1622   \n",
              "1  ...          23.41           158.80      1956.0            0.1238   \n",
              "2  ...          25.53           152.50      1709.0            0.1444   \n",
              "3  ...          26.50            98.87       567.7            0.2098   \n",
              "4  ...          16.67           152.20      1575.0            0.1374   \n",
              "\n",
              "   compactness_worst  concavity_worst  concave points_worst  symmetry_worst  \\\n",
              "0             0.6656           0.7119                0.2654          0.4601   \n",
              "1             0.1866           0.2416                0.1860          0.2750   \n",
              "2             0.4245           0.4504                0.2430          0.3613   \n",
              "3             0.8663           0.6869                0.2575          0.6638   \n",
              "4             0.2050           0.4000                0.1625          0.2364   \n",
              "\n",
              "   fractal_dimension_worst  Unnamed: 32  \n",
              "0                  0.11890          NaN  \n",
              "1                  0.08902          NaN  \n",
              "2                  0.08758          NaN  \n",
              "3                  0.17300          NaN  \n",
              "4                  0.07678          NaN  \n",
              "\n",
              "[5 rows x 33 columns]"
            ],
            "text/html": [
              "\n",
              "  <div id=\"df-459b5e64-a5ee-400b-b8ac-d6763eb93219\" class=\"colab-df-container\">\n",
              "    <div>\n",
              "<style scoped>\n",
              "    .dataframe tbody tr th:only-of-type {\n",
              "        vertical-align: middle;\n",
              "    }\n",
              "\n",
              "    .dataframe tbody tr th {\n",
              "        vertical-align: top;\n",
              "    }\n",
              "\n",
              "    .dataframe thead th {\n",
              "        text-align: right;\n",
              "    }\n",
              "</style>\n",
              "<table border=\"1\" class=\"dataframe\">\n",
              "  <thead>\n",
              "    <tr style=\"text-align: right;\">\n",
              "      <th></th>\n",
              "      <th>id</th>\n",
              "      <th>diagnosis</th>\n",
              "      <th>radius_mean</th>\n",
              "      <th>texture_mean</th>\n",
              "      <th>perimeter_mean</th>\n",
              "      <th>area_mean</th>\n",
              "      <th>smoothness_mean</th>\n",
              "      <th>compactness_mean</th>\n",
              "      <th>concavity_mean</th>\n",
              "      <th>concave points_mean</th>\n",
              "      <th>...</th>\n",
              "      <th>texture_worst</th>\n",
              "      <th>perimeter_worst</th>\n",
              "      <th>area_worst</th>\n",
              "      <th>smoothness_worst</th>\n",
              "      <th>compactness_worst</th>\n",
              "      <th>concavity_worst</th>\n",
              "      <th>concave points_worst</th>\n",
              "      <th>symmetry_worst</th>\n",
              "      <th>fractal_dimension_worst</th>\n",
              "      <th>Unnamed: 32</th>\n",
              "    </tr>\n",
              "  </thead>\n",
              "  <tbody>\n",
              "    <tr>\n",
              "      <th>0</th>\n",
              "      <td>842302</td>\n",
              "      <td>M</td>\n",
              "      <td>17.99</td>\n",
              "      <td>10.38</td>\n",
              "      <td>122.80</td>\n",
              "      <td>1001.0</td>\n",
              "      <td>0.11840</td>\n",
              "      <td>0.27760</td>\n",
              "      <td>0.3001</td>\n",
              "      <td>0.14710</td>\n",
              "      <td>...</td>\n",
              "      <td>17.33</td>\n",
              "      <td>184.60</td>\n",
              "      <td>2019.0</td>\n",
              "      <td>0.1622</td>\n",
              "      <td>0.6656</td>\n",
              "      <td>0.7119</td>\n",
              "      <td>0.2654</td>\n",
              "      <td>0.4601</td>\n",
              "      <td>0.11890</td>\n",
              "      <td>NaN</td>\n",
              "    </tr>\n",
              "    <tr>\n",
              "      <th>1</th>\n",
              "      <td>842517</td>\n",
              "      <td>M</td>\n",
              "      <td>20.57</td>\n",
              "      <td>17.77</td>\n",
              "      <td>132.90</td>\n",
              "      <td>1326.0</td>\n",
              "      <td>0.08474</td>\n",
              "      <td>0.07864</td>\n",
              "      <td>0.0869</td>\n",
              "      <td>0.07017</td>\n",
              "      <td>...</td>\n",
              "      <td>23.41</td>\n",
              "      <td>158.80</td>\n",
              "      <td>1956.0</td>\n",
              "      <td>0.1238</td>\n",
              "      <td>0.1866</td>\n",
              "      <td>0.2416</td>\n",
              "      <td>0.1860</td>\n",
              "      <td>0.2750</td>\n",
              "      <td>0.08902</td>\n",
              "      <td>NaN</td>\n",
              "    </tr>\n",
              "    <tr>\n",
              "      <th>2</th>\n",
              "      <td>84300903</td>\n",
              "      <td>M</td>\n",
              "      <td>19.69</td>\n",
              "      <td>21.25</td>\n",
              "      <td>130.00</td>\n",
              "      <td>1203.0</td>\n",
              "      <td>0.10960</td>\n",
              "      <td>0.15990</td>\n",
              "      <td>0.1974</td>\n",
              "      <td>0.12790</td>\n",
              "      <td>...</td>\n",
              "      <td>25.53</td>\n",
              "      <td>152.50</td>\n",
              "      <td>1709.0</td>\n",
              "      <td>0.1444</td>\n",
              "      <td>0.4245</td>\n",
              "      <td>0.4504</td>\n",
              "      <td>0.2430</td>\n",
              "      <td>0.3613</td>\n",
              "      <td>0.08758</td>\n",
              "      <td>NaN</td>\n",
              "    </tr>\n",
              "    <tr>\n",
              "      <th>3</th>\n",
              "      <td>84348301</td>\n",
              "      <td>M</td>\n",
              "      <td>11.42</td>\n",
              "      <td>20.38</td>\n",
              "      <td>77.58</td>\n",
              "      <td>386.1</td>\n",
              "      <td>0.14250</td>\n",
              "      <td>0.28390</td>\n",
              "      <td>0.2414</td>\n",
              "      <td>0.10520</td>\n",
              "      <td>...</td>\n",
              "      <td>26.50</td>\n",
              "      <td>98.87</td>\n",
              "      <td>567.7</td>\n",
              "      <td>0.2098</td>\n",
              "      <td>0.8663</td>\n",
              "      <td>0.6869</td>\n",
              "      <td>0.2575</td>\n",
              "      <td>0.6638</td>\n",
              "      <td>0.17300</td>\n",
              "      <td>NaN</td>\n",
              "    </tr>\n",
              "    <tr>\n",
              "      <th>4</th>\n",
              "      <td>84358402</td>\n",
              "      <td>M</td>\n",
              "      <td>20.29</td>\n",
              "      <td>14.34</td>\n",
              "      <td>135.10</td>\n",
              "      <td>1297.0</td>\n",
              "      <td>0.10030</td>\n",
              "      <td>0.13280</td>\n",
              "      <td>0.1980</td>\n",
              "      <td>0.10430</td>\n",
              "      <td>...</td>\n",
              "      <td>16.67</td>\n",
              "      <td>152.20</td>\n",
              "      <td>1575.0</td>\n",
              "      <td>0.1374</td>\n",
              "      <td>0.2050</td>\n",
              "      <td>0.4000</td>\n",
              "      <td>0.1625</td>\n",
              "      <td>0.2364</td>\n",
              "      <td>0.07678</td>\n",
              "      <td>NaN</td>\n",
              "    </tr>\n",
              "  </tbody>\n",
              "</table>\n",
              "<p>5 rows × 33 columns</p>\n",
              "</div>\n",
              "    <div class=\"colab-df-buttons\">\n",
              "\n",
              "  <div class=\"colab-df-container\">\n",
              "    <button class=\"colab-df-convert\" onclick=\"convertToInteractive('df-459b5e64-a5ee-400b-b8ac-d6763eb93219')\"\n",
              "            title=\"Convert this dataframe to an interactive table.\"\n",
              "            style=\"display:none;\">\n",
              "\n",
              "  <svg xmlns=\"http://www.w3.org/2000/svg\" height=\"24px\" viewBox=\"0 -960 960 960\">\n",
              "    <path d=\"M120-120v-720h720v720H120Zm60-500h600v-160H180v160Zm220 220h160v-160H400v160Zm0 220h160v-160H400v160ZM180-400h160v-160H180v160Zm440 0h160v-160H620v160ZM180-180h160v-160H180v160Zm440 0h160v-160H620v160Z\"/>\n",
              "  </svg>\n",
              "    </button>\n",
              "\n",
              "  <style>\n",
              "    .colab-df-container {\n",
              "      display:flex;\n",
              "      gap: 12px;\n",
              "    }\n",
              "\n",
              "    .colab-df-convert {\n",
              "      background-color: #E8F0FE;\n",
              "      border: none;\n",
              "      border-radius: 50%;\n",
              "      cursor: pointer;\n",
              "      display: none;\n",
              "      fill: #1967D2;\n",
              "      height: 32px;\n",
              "      padding: 0 0 0 0;\n",
              "      width: 32px;\n",
              "    }\n",
              "\n",
              "    .colab-df-convert:hover {\n",
              "      background-color: #E2EBFA;\n",
              "      box-shadow: 0px 1px 2px rgba(60, 64, 67, 0.3), 0px 1px 3px 1px rgba(60, 64, 67, 0.15);\n",
              "      fill: #174EA6;\n",
              "    }\n",
              "\n",
              "    .colab-df-buttons div {\n",
              "      margin-bottom: 4px;\n",
              "    }\n",
              "\n",
              "    [theme=dark] .colab-df-convert {\n",
              "      background-color: #3B4455;\n",
              "      fill: #D2E3FC;\n",
              "    }\n",
              "\n",
              "    [theme=dark] .colab-df-convert:hover {\n",
              "      background-color: #434B5C;\n",
              "      box-shadow: 0px 1px 3px 1px rgba(0, 0, 0, 0.15);\n",
              "      filter: drop-shadow(0px 1px 2px rgba(0, 0, 0, 0.3));\n",
              "      fill: #FFFFFF;\n",
              "    }\n",
              "  </style>\n",
              "\n",
              "    <script>\n",
              "      const buttonEl =\n",
              "        document.querySelector('#df-459b5e64-a5ee-400b-b8ac-d6763eb93219 button.colab-df-convert');\n",
              "      buttonEl.style.display =\n",
              "        google.colab.kernel.accessAllowed ? 'block' : 'none';\n",
              "\n",
              "      async function convertToInteractive(key) {\n",
              "        const element = document.querySelector('#df-459b5e64-a5ee-400b-b8ac-d6763eb93219');\n",
              "        const dataTable =\n",
              "          await google.colab.kernel.invokeFunction('convertToInteractive',\n",
              "                                                    [key], {});\n",
              "        if (!dataTable) return;\n",
              "\n",
              "        const docLinkHtml = 'Like what you see? Visit the ' +\n",
              "          '<a target=\"_blank\" href=https://colab.research.google.com/notebooks/data_table.ipynb>data table notebook</a>'\n",
              "          + ' to learn more about interactive tables.';\n",
              "        element.innerHTML = '';\n",
              "        dataTable['output_type'] = 'display_data';\n",
              "        await google.colab.output.renderOutput(dataTable, element);\n",
              "        const docLink = document.createElement('div');\n",
              "        docLink.innerHTML = docLinkHtml;\n",
              "        element.appendChild(docLink);\n",
              "      }\n",
              "    </script>\n",
              "  </div>\n",
              "\n",
              "\n",
              "<div id=\"df-e9d9ade2-df61-4811-8d9f-03a3110ffe18\">\n",
              "  <button class=\"colab-df-quickchart\" onclick=\"quickchart('df-e9d9ade2-df61-4811-8d9f-03a3110ffe18')\"\n",
              "            title=\"Suggest charts\"\n",
              "            style=\"display:none;\">\n",
              "\n",
              "<svg xmlns=\"http://www.w3.org/2000/svg\" height=\"24px\"viewBox=\"0 0 24 24\"\n",
              "     width=\"24px\">\n",
              "    <g>\n",
              "        <path d=\"M19 3H5c-1.1 0-2 .9-2 2v14c0 1.1.9 2 2 2h14c1.1 0 2-.9 2-2V5c0-1.1-.9-2-2-2zM9 17H7v-7h2v7zm4 0h-2V7h2v10zm4 0h-2v-4h2v4z\"/>\n",
              "    </g>\n",
              "</svg>\n",
              "  </button>\n",
              "\n",
              "<style>\n",
              "  .colab-df-quickchart {\n",
              "      --bg-color: #E8F0FE;\n",
              "      --fill-color: #1967D2;\n",
              "      --hover-bg-color: #E2EBFA;\n",
              "      --hover-fill-color: #174EA6;\n",
              "      --disabled-fill-color: #AAA;\n",
              "      --disabled-bg-color: #DDD;\n",
              "  }\n",
              "\n",
              "  [theme=dark] .colab-df-quickchart {\n",
              "      --bg-color: #3B4455;\n",
              "      --fill-color: #D2E3FC;\n",
              "      --hover-bg-color: #434B5C;\n",
              "      --hover-fill-color: #FFFFFF;\n",
              "      --disabled-bg-color: #3B4455;\n",
              "      --disabled-fill-color: #666;\n",
              "  }\n",
              "\n",
              "  .colab-df-quickchart {\n",
              "    background-color: var(--bg-color);\n",
              "    border: none;\n",
              "    border-radius: 50%;\n",
              "    cursor: pointer;\n",
              "    display: none;\n",
              "    fill: var(--fill-color);\n",
              "    height: 32px;\n",
              "    padding: 0;\n",
              "    width: 32px;\n",
              "  }\n",
              "\n",
              "  .colab-df-quickchart:hover {\n",
              "    background-color: var(--hover-bg-color);\n",
              "    box-shadow: 0 1px 2px rgba(60, 64, 67, 0.3), 0 1px 3px 1px rgba(60, 64, 67, 0.15);\n",
              "    fill: var(--button-hover-fill-color);\n",
              "  }\n",
              "\n",
              "  .colab-df-quickchart-complete:disabled,\n",
              "  .colab-df-quickchart-complete:disabled:hover {\n",
              "    background-color: var(--disabled-bg-color);\n",
              "    fill: var(--disabled-fill-color);\n",
              "    box-shadow: none;\n",
              "  }\n",
              "\n",
              "  .colab-df-spinner {\n",
              "    border: 2px solid var(--fill-color);\n",
              "    border-color: transparent;\n",
              "    border-bottom-color: var(--fill-color);\n",
              "    animation:\n",
              "      spin 1s steps(1) infinite;\n",
              "  }\n",
              "\n",
              "  @keyframes spin {\n",
              "    0% {\n",
              "      border-color: transparent;\n",
              "      border-bottom-color: var(--fill-color);\n",
              "      border-left-color: var(--fill-color);\n",
              "    }\n",
              "    20% {\n",
              "      border-color: transparent;\n",
              "      border-left-color: var(--fill-color);\n",
              "      border-top-color: var(--fill-color);\n",
              "    }\n",
              "    30% {\n",
              "      border-color: transparent;\n",
              "      border-left-color: var(--fill-color);\n",
              "      border-top-color: var(--fill-color);\n",
              "      border-right-color: var(--fill-color);\n",
              "    }\n",
              "    40% {\n",
              "      border-color: transparent;\n",
              "      border-right-color: var(--fill-color);\n",
              "      border-top-color: var(--fill-color);\n",
              "    }\n",
              "    60% {\n",
              "      border-color: transparent;\n",
              "      border-right-color: var(--fill-color);\n",
              "    }\n",
              "    80% {\n",
              "      border-color: transparent;\n",
              "      border-right-color: var(--fill-color);\n",
              "      border-bottom-color: var(--fill-color);\n",
              "    }\n",
              "    90% {\n",
              "      border-color: transparent;\n",
              "      border-bottom-color: var(--fill-color);\n",
              "    }\n",
              "  }\n",
              "</style>\n",
              "\n",
              "  <script>\n",
              "    async function quickchart(key) {\n",
              "      const quickchartButtonEl =\n",
              "        document.querySelector('#' + key + ' button');\n",
              "      quickchartButtonEl.disabled = true;  // To prevent multiple clicks.\n",
              "      quickchartButtonEl.classList.add('colab-df-spinner');\n",
              "      try {\n",
              "        const charts = await google.colab.kernel.invokeFunction(\n",
              "            'suggestCharts', [key], {});\n",
              "      } catch (error) {\n",
              "        console.error('Error during call to suggestCharts:', error);\n",
              "      }\n",
              "      quickchartButtonEl.classList.remove('colab-df-spinner');\n",
              "      quickchartButtonEl.classList.add('colab-df-quickchart-complete');\n",
              "    }\n",
              "    (() => {\n",
              "      let quickchartButtonEl =\n",
              "        document.querySelector('#df-e9d9ade2-df61-4811-8d9f-03a3110ffe18 button');\n",
              "      quickchartButtonEl.style.display =\n",
              "        google.colab.kernel.accessAllowed ? 'block' : 'none';\n",
              "    })();\n",
              "  </script>\n",
              "</div>\n",
              "\n",
              "    </div>\n",
              "  </div>\n"
            ],
            "application/vnd.google.colaboratory.intrinsic+json": {
              "type": "dataframe",
              "variable_name": "df"
            }
          },
          "metadata": {},
          "execution_count": 68
        }
      ]
    },
    {
      "cell_type": "code",
      "source": [
        "df.shape"
      ],
      "metadata": {
        "colab": {
          "base_uri": "https://localhost:8080/"
        },
        "id": "pcDka_H1QYYn",
        "outputId": "44af577f-1c89-4a4a-c8ab-4f83870b6456"
      },
      "execution_count": 69,
      "outputs": [
        {
          "output_type": "execute_result",
          "data": {
            "text/plain": [
              "(569, 33)"
            ]
          },
          "metadata": {},
          "execution_count": 69
        }
      ]
    },
    {
      "cell_type": "code",
      "source": [
        "df.info()"
      ],
      "metadata": {
        "colab": {
          "base_uri": "https://localhost:8080/"
        },
        "id": "1WkwEbNGQcVD",
        "outputId": "1332a99a-7002-4ca6-af09-92991f32cfef"
      },
      "execution_count": 70,
      "outputs": [
        {
          "output_type": "stream",
          "name": "stdout",
          "text": [
            "<class 'pandas.core.frame.DataFrame'>\n",
            "RangeIndex: 569 entries, 0 to 568\n",
            "Data columns (total 33 columns):\n",
            " #   Column                   Non-Null Count  Dtype  \n",
            "---  ------                   --------------  -----  \n",
            " 0   id                       569 non-null    int64  \n",
            " 1   diagnosis                569 non-null    object \n",
            " 2   radius_mean              569 non-null    float64\n",
            " 3   texture_mean             569 non-null    float64\n",
            " 4   perimeter_mean           569 non-null    float64\n",
            " 5   area_mean                569 non-null    float64\n",
            " 6   smoothness_mean          569 non-null    float64\n",
            " 7   compactness_mean         569 non-null    float64\n",
            " 8   concavity_mean           569 non-null    float64\n",
            " 9   concave points_mean      569 non-null    float64\n",
            " 10  symmetry_mean            569 non-null    float64\n",
            " 11  fractal_dimension_mean   569 non-null    float64\n",
            " 12  radius_se                569 non-null    float64\n",
            " 13  texture_se               569 non-null    float64\n",
            " 14  perimeter_se             569 non-null    float64\n",
            " 15  area_se                  569 non-null    float64\n",
            " 16  smoothness_se            569 non-null    float64\n",
            " 17  compactness_se           569 non-null    float64\n",
            " 18  concavity_se             569 non-null    float64\n",
            " 19  concave points_se        569 non-null    float64\n",
            " 20  symmetry_se              569 non-null    float64\n",
            " 21  fractal_dimension_se     569 non-null    float64\n",
            " 22  radius_worst             569 non-null    float64\n",
            " 23  texture_worst            569 non-null    float64\n",
            " 24  perimeter_worst          569 non-null    float64\n",
            " 25  area_worst               569 non-null    float64\n",
            " 26  smoothness_worst         569 non-null    float64\n",
            " 27  compactness_worst        569 non-null    float64\n",
            " 28  concavity_worst          569 non-null    float64\n",
            " 29  concave points_worst     569 non-null    float64\n",
            " 30  symmetry_worst           569 non-null    float64\n",
            " 31  fractal_dimension_worst  569 non-null    float64\n",
            " 32  Unnamed: 32              0 non-null      float64\n",
            "dtypes: float64(31), int64(1), object(1)\n",
            "memory usage: 146.8+ KB\n"
          ]
        }
      ]
    },
    {
      "cell_type": "markdown",
      "source": [
        "We got no null value. Yay :3"
      ],
      "metadata": {
        "id": "9nmCcCl2QjZX"
      }
    },
    {
      "cell_type": "code",
      "source": [
        "df.groupby('diagnosis').mean()"
      ],
      "metadata": {
        "colab": {
          "base_uri": "https://localhost:8080/",
          "height": 210
        },
        "id": "A7yNjcIUSjw0",
        "outputId": "60003fa6-c8ee-480f-c40d-733da3bbb487"
      },
      "execution_count": 71,
      "outputs": [
        {
          "output_type": "execute_result",
          "data": {
            "text/plain": [
              "                     id  radius_mean  texture_mean  perimeter_mean  \\\n",
              "diagnosis                                                            \n",
              "B          2.654382e+07    12.146524     17.914762       78.075406   \n",
              "M          3.681805e+07    17.462830     21.604906      115.365377   \n",
              "\n",
              "            area_mean  smoothness_mean  compactness_mean  concavity_mean  \\\n",
              "diagnosis                                                                  \n",
              "B          462.790196         0.092478          0.080085        0.046058   \n",
              "M          978.376415         0.102898          0.145188        0.160775   \n",
              "\n",
              "           concave points_mean  symmetry_mean  ...  texture_worst  \\\n",
              "diagnosis                                      ...                  \n",
              "B                     0.025717       0.174186  ...      23.515070   \n",
              "M                     0.087990       0.192909  ...      29.318208   \n",
              "\n",
              "           perimeter_worst   area_worst  smoothness_worst  compactness_worst  \\\n",
              "diagnosis                                                                      \n",
              "B                87.005938   558.899440          0.124959           0.182673   \n",
              "M               141.370330  1422.286321          0.144845           0.374824   \n",
              "\n",
              "           concavity_worst  concave points_worst  symmetry_worst  \\\n",
              "diagnosis                                                          \n",
              "B                 0.166238              0.074444        0.270246   \n",
              "M                 0.450606              0.182237        0.323468   \n",
              "\n",
              "           fractal_dimension_worst  Unnamed: 32  \n",
              "diagnosis                                        \n",
              "B                         0.079442          NaN  \n",
              "M                         0.091530          NaN  \n",
              "\n",
              "[2 rows x 32 columns]"
            ],
            "text/html": [
              "\n",
              "  <div id=\"df-f4b4d3d2-3d12-42cf-8e52-aac722c0b2c2\" class=\"colab-df-container\">\n",
              "    <div>\n",
              "<style scoped>\n",
              "    .dataframe tbody tr th:only-of-type {\n",
              "        vertical-align: middle;\n",
              "    }\n",
              "\n",
              "    .dataframe tbody tr th {\n",
              "        vertical-align: top;\n",
              "    }\n",
              "\n",
              "    .dataframe thead th {\n",
              "        text-align: right;\n",
              "    }\n",
              "</style>\n",
              "<table border=\"1\" class=\"dataframe\">\n",
              "  <thead>\n",
              "    <tr style=\"text-align: right;\">\n",
              "      <th></th>\n",
              "      <th>id</th>\n",
              "      <th>radius_mean</th>\n",
              "      <th>texture_mean</th>\n",
              "      <th>perimeter_mean</th>\n",
              "      <th>area_mean</th>\n",
              "      <th>smoothness_mean</th>\n",
              "      <th>compactness_mean</th>\n",
              "      <th>concavity_mean</th>\n",
              "      <th>concave points_mean</th>\n",
              "      <th>symmetry_mean</th>\n",
              "      <th>...</th>\n",
              "      <th>texture_worst</th>\n",
              "      <th>perimeter_worst</th>\n",
              "      <th>area_worst</th>\n",
              "      <th>smoothness_worst</th>\n",
              "      <th>compactness_worst</th>\n",
              "      <th>concavity_worst</th>\n",
              "      <th>concave points_worst</th>\n",
              "      <th>symmetry_worst</th>\n",
              "      <th>fractal_dimension_worst</th>\n",
              "      <th>Unnamed: 32</th>\n",
              "    </tr>\n",
              "    <tr>\n",
              "      <th>diagnosis</th>\n",
              "      <th></th>\n",
              "      <th></th>\n",
              "      <th></th>\n",
              "      <th></th>\n",
              "      <th></th>\n",
              "      <th></th>\n",
              "      <th></th>\n",
              "      <th></th>\n",
              "      <th></th>\n",
              "      <th></th>\n",
              "      <th></th>\n",
              "      <th></th>\n",
              "      <th></th>\n",
              "      <th></th>\n",
              "      <th></th>\n",
              "      <th></th>\n",
              "      <th></th>\n",
              "      <th></th>\n",
              "      <th></th>\n",
              "      <th></th>\n",
              "      <th></th>\n",
              "    </tr>\n",
              "  </thead>\n",
              "  <tbody>\n",
              "    <tr>\n",
              "      <th>B</th>\n",
              "      <td>2.654382e+07</td>\n",
              "      <td>12.146524</td>\n",
              "      <td>17.914762</td>\n",
              "      <td>78.075406</td>\n",
              "      <td>462.790196</td>\n",
              "      <td>0.092478</td>\n",
              "      <td>0.080085</td>\n",
              "      <td>0.046058</td>\n",
              "      <td>0.025717</td>\n",
              "      <td>0.174186</td>\n",
              "      <td>...</td>\n",
              "      <td>23.515070</td>\n",
              "      <td>87.005938</td>\n",
              "      <td>558.899440</td>\n",
              "      <td>0.124959</td>\n",
              "      <td>0.182673</td>\n",
              "      <td>0.166238</td>\n",
              "      <td>0.074444</td>\n",
              "      <td>0.270246</td>\n",
              "      <td>0.079442</td>\n",
              "      <td>NaN</td>\n",
              "    </tr>\n",
              "    <tr>\n",
              "      <th>M</th>\n",
              "      <td>3.681805e+07</td>\n",
              "      <td>17.462830</td>\n",
              "      <td>21.604906</td>\n",
              "      <td>115.365377</td>\n",
              "      <td>978.376415</td>\n",
              "      <td>0.102898</td>\n",
              "      <td>0.145188</td>\n",
              "      <td>0.160775</td>\n",
              "      <td>0.087990</td>\n",
              "      <td>0.192909</td>\n",
              "      <td>...</td>\n",
              "      <td>29.318208</td>\n",
              "      <td>141.370330</td>\n",
              "      <td>1422.286321</td>\n",
              "      <td>0.144845</td>\n",
              "      <td>0.374824</td>\n",
              "      <td>0.450606</td>\n",
              "      <td>0.182237</td>\n",
              "      <td>0.323468</td>\n",
              "      <td>0.091530</td>\n",
              "      <td>NaN</td>\n",
              "    </tr>\n",
              "  </tbody>\n",
              "</table>\n",
              "<p>2 rows × 32 columns</p>\n",
              "</div>\n",
              "    <div class=\"colab-df-buttons\">\n",
              "\n",
              "  <div class=\"colab-df-container\">\n",
              "    <button class=\"colab-df-convert\" onclick=\"convertToInteractive('df-f4b4d3d2-3d12-42cf-8e52-aac722c0b2c2')\"\n",
              "            title=\"Convert this dataframe to an interactive table.\"\n",
              "            style=\"display:none;\">\n",
              "\n",
              "  <svg xmlns=\"http://www.w3.org/2000/svg\" height=\"24px\" viewBox=\"0 -960 960 960\">\n",
              "    <path d=\"M120-120v-720h720v720H120Zm60-500h600v-160H180v160Zm220 220h160v-160H400v160Zm0 220h160v-160H400v160ZM180-400h160v-160H180v160Zm440 0h160v-160H620v160ZM180-180h160v-160H180v160Zm440 0h160v-160H620v160Z\"/>\n",
              "  </svg>\n",
              "    </button>\n",
              "\n",
              "  <style>\n",
              "    .colab-df-container {\n",
              "      display:flex;\n",
              "      gap: 12px;\n",
              "    }\n",
              "\n",
              "    .colab-df-convert {\n",
              "      background-color: #E8F0FE;\n",
              "      border: none;\n",
              "      border-radius: 50%;\n",
              "      cursor: pointer;\n",
              "      display: none;\n",
              "      fill: #1967D2;\n",
              "      height: 32px;\n",
              "      padding: 0 0 0 0;\n",
              "      width: 32px;\n",
              "    }\n",
              "\n",
              "    .colab-df-convert:hover {\n",
              "      background-color: #E2EBFA;\n",
              "      box-shadow: 0px 1px 2px rgba(60, 64, 67, 0.3), 0px 1px 3px 1px rgba(60, 64, 67, 0.15);\n",
              "      fill: #174EA6;\n",
              "    }\n",
              "\n",
              "    .colab-df-buttons div {\n",
              "      margin-bottom: 4px;\n",
              "    }\n",
              "\n",
              "    [theme=dark] .colab-df-convert {\n",
              "      background-color: #3B4455;\n",
              "      fill: #D2E3FC;\n",
              "    }\n",
              "\n",
              "    [theme=dark] .colab-df-convert:hover {\n",
              "      background-color: #434B5C;\n",
              "      box-shadow: 0px 1px 3px 1px rgba(0, 0, 0, 0.15);\n",
              "      filter: drop-shadow(0px 1px 2px rgba(0, 0, 0, 0.3));\n",
              "      fill: #FFFFFF;\n",
              "    }\n",
              "  </style>\n",
              "\n",
              "    <script>\n",
              "      const buttonEl =\n",
              "        document.querySelector('#df-f4b4d3d2-3d12-42cf-8e52-aac722c0b2c2 button.colab-df-convert');\n",
              "      buttonEl.style.display =\n",
              "        google.colab.kernel.accessAllowed ? 'block' : 'none';\n",
              "\n",
              "      async function convertToInteractive(key) {\n",
              "        const element = document.querySelector('#df-f4b4d3d2-3d12-42cf-8e52-aac722c0b2c2');\n",
              "        const dataTable =\n",
              "          await google.colab.kernel.invokeFunction('convertToInteractive',\n",
              "                                                    [key], {});\n",
              "        if (!dataTable) return;\n",
              "\n",
              "        const docLinkHtml = 'Like what you see? Visit the ' +\n",
              "          '<a target=\"_blank\" href=https://colab.research.google.com/notebooks/data_table.ipynb>data table notebook</a>'\n",
              "          + ' to learn more about interactive tables.';\n",
              "        element.innerHTML = '';\n",
              "        dataTable['output_type'] = 'display_data';\n",
              "        await google.colab.output.renderOutput(dataTable, element);\n",
              "        const docLink = document.createElement('div');\n",
              "        docLink.innerHTML = docLinkHtml;\n",
              "        element.appendChild(docLink);\n",
              "      }\n",
              "    </script>\n",
              "  </div>\n",
              "\n",
              "\n",
              "<div id=\"df-1f1d6bcf-1bac-4f9a-95f5-a19dc9a95517\">\n",
              "  <button class=\"colab-df-quickchart\" onclick=\"quickchart('df-1f1d6bcf-1bac-4f9a-95f5-a19dc9a95517')\"\n",
              "            title=\"Suggest charts\"\n",
              "            style=\"display:none;\">\n",
              "\n",
              "<svg xmlns=\"http://www.w3.org/2000/svg\" height=\"24px\"viewBox=\"0 0 24 24\"\n",
              "     width=\"24px\">\n",
              "    <g>\n",
              "        <path d=\"M19 3H5c-1.1 0-2 .9-2 2v14c0 1.1.9 2 2 2h14c1.1 0 2-.9 2-2V5c0-1.1-.9-2-2-2zM9 17H7v-7h2v7zm4 0h-2V7h2v10zm4 0h-2v-4h2v4z\"/>\n",
              "    </g>\n",
              "</svg>\n",
              "  </button>\n",
              "\n",
              "<style>\n",
              "  .colab-df-quickchart {\n",
              "      --bg-color: #E8F0FE;\n",
              "      --fill-color: #1967D2;\n",
              "      --hover-bg-color: #E2EBFA;\n",
              "      --hover-fill-color: #174EA6;\n",
              "      --disabled-fill-color: #AAA;\n",
              "      --disabled-bg-color: #DDD;\n",
              "  }\n",
              "\n",
              "  [theme=dark] .colab-df-quickchart {\n",
              "      --bg-color: #3B4455;\n",
              "      --fill-color: #D2E3FC;\n",
              "      --hover-bg-color: #434B5C;\n",
              "      --hover-fill-color: #FFFFFF;\n",
              "      --disabled-bg-color: #3B4455;\n",
              "      --disabled-fill-color: #666;\n",
              "  }\n",
              "\n",
              "  .colab-df-quickchart {\n",
              "    background-color: var(--bg-color);\n",
              "    border: none;\n",
              "    border-radius: 50%;\n",
              "    cursor: pointer;\n",
              "    display: none;\n",
              "    fill: var(--fill-color);\n",
              "    height: 32px;\n",
              "    padding: 0;\n",
              "    width: 32px;\n",
              "  }\n",
              "\n",
              "  .colab-df-quickchart:hover {\n",
              "    background-color: var(--hover-bg-color);\n",
              "    box-shadow: 0 1px 2px rgba(60, 64, 67, 0.3), 0 1px 3px 1px rgba(60, 64, 67, 0.15);\n",
              "    fill: var(--button-hover-fill-color);\n",
              "  }\n",
              "\n",
              "  .colab-df-quickchart-complete:disabled,\n",
              "  .colab-df-quickchart-complete:disabled:hover {\n",
              "    background-color: var(--disabled-bg-color);\n",
              "    fill: var(--disabled-fill-color);\n",
              "    box-shadow: none;\n",
              "  }\n",
              "\n",
              "  .colab-df-spinner {\n",
              "    border: 2px solid var(--fill-color);\n",
              "    border-color: transparent;\n",
              "    border-bottom-color: var(--fill-color);\n",
              "    animation:\n",
              "      spin 1s steps(1) infinite;\n",
              "  }\n",
              "\n",
              "  @keyframes spin {\n",
              "    0% {\n",
              "      border-color: transparent;\n",
              "      border-bottom-color: var(--fill-color);\n",
              "      border-left-color: var(--fill-color);\n",
              "    }\n",
              "    20% {\n",
              "      border-color: transparent;\n",
              "      border-left-color: var(--fill-color);\n",
              "      border-top-color: var(--fill-color);\n",
              "    }\n",
              "    30% {\n",
              "      border-color: transparent;\n",
              "      border-left-color: var(--fill-color);\n",
              "      border-top-color: var(--fill-color);\n",
              "      border-right-color: var(--fill-color);\n",
              "    }\n",
              "    40% {\n",
              "      border-color: transparent;\n",
              "      border-right-color: var(--fill-color);\n",
              "      border-top-color: var(--fill-color);\n",
              "    }\n",
              "    60% {\n",
              "      border-color: transparent;\n",
              "      border-right-color: var(--fill-color);\n",
              "    }\n",
              "    80% {\n",
              "      border-color: transparent;\n",
              "      border-right-color: var(--fill-color);\n",
              "      border-bottom-color: var(--fill-color);\n",
              "    }\n",
              "    90% {\n",
              "      border-color: transparent;\n",
              "      border-bottom-color: var(--fill-color);\n",
              "    }\n",
              "  }\n",
              "</style>\n",
              "\n",
              "  <script>\n",
              "    async function quickchart(key) {\n",
              "      const quickchartButtonEl =\n",
              "        document.querySelector('#' + key + ' button');\n",
              "      quickchartButtonEl.disabled = true;  // To prevent multiple clicks.\n",
              "      quickchartButtonEl.classList.add('colab-df-spinner');\n",
              "      try {\n",
              "        const charts = await google.colab.kernel.invokeFunction(\n",
              "            'suggestCharts', [key], {});\n",
              "      } catch (error) {\n",
              "        console.error('Error during call to suggestCharts:', error);\n",
              "      }\n",
              "      quickchartButtonEl.classList.remove('colab-df-spinner');\n",
              "      quickchartButtonEl.classList.add('colab-df-quickchart-complete');\n",
              "    }\n",
              "    (() => {\n",
              "      let quickchartButtonEl =\n",
              "        document.querySelector('#df-1f1d6bcf-1bac-4f9a-95f5-a19dc9a95517 button');\n",
              "      quickchartButtonEl.style.display =\n",
              "        google.colab.kernel.accessAllowed ? 'block' : 'none';\n",
              "    })();\n",
              "  </script>\n",
              "</div>\n",
              "\n",
              "    </div>\n",
              "  </div>\n"
            ],
            "application/vnd.google.colaboratory.intrinsic+json": {
              "type": "dataframe"
            }
          },
          "metadata": {},
          "execution_count": 71
        }
      ]
    },
    {
      "cell_type": "code",
      "source": [
        "df['diagnosis'].value_counts()"
      ],
      "metadata": {
        "colab": {
          "base_uri": "https://localhost:8080/",
          "height": 178
        },
        "id": "yQMHSaifRiXu",
        "outputId": "4e8ebd62-7444-4ab7-970b-fa447e555126"
      },
      "execution_count": 72,
      "outputs": [
        {
          "output_type": "execute_result",
          "data": {
            "text/plain": [
              "diagnosis\n",
              "B    357\n",
              "M    212\n",
              "Name: count, dtype: int64"
            ],
            "text/html": [
              "<div>\n",
              "<style scoped>\n",
              "    .dataframe tbody tr th:only-of-type {\n",
              "        vertical-align: middle;\n",
              "    }\n",
              "\n",
              "    .dataframe tbody tr th {\n",
              "        vertical-align: top;\n",
              "    }\n",
              "\n",
              "    .dataframe thead th {\n",
              "        text-align: right;\n",
              "    }\n",
              "</style>\n",
              "<table border=\"1\" class=\"dataframe\">\n",
              "  <thead>\n",
              "    <tr style=\"text-align: right;\">\n",
              "      <th></th>\n",
              "      <th>count</th>\n",
              "    </tr>\n",
              "    <tr>\n",
              "      <th>diagnosis</th>\n",
              "      <th></th>\n",
              "    </tr>\n",
              "  </thead>\n",
              "  <tbody>\n",
              "    <tr>\n",
              "      <th>B</th>\n",
              "      <td>357</td>\n",
              "    </tr>\n",
              "    <tr>\n",
              "      <th>M</th>\n",
              "      <td>212</td>\n",
              "    </tr>\n",
              "  </tbody>\n",
              "</table>\n",
              "</div><br><label><b>dtype:</b> int64</label>"
            ]
          },
          "metadata": {},
          "execution_count": 72
        }
      ]
    },
    {
      "cell_type": "code",
      "source": [
        "df['diagnosis'] = df['diagnosis'].map({'M': 1, 'B': 0})"
      ],
      "metadata": {
        "id": "73Xg5L14RsDe"
      },
      "execution_count": 73,
      "outputs": []
    },
    {
      "cell_type": "code",
      "source": [
        "df['diagnosis'].value_counts()"
      ],
      "metadata": {
        "colab": {
          "base_uri": "https://localhost:8080/",
          "height": 178
        },
        "id": "e-2KmVwFR0rG",
        "outputId": "39b810e0-95fe-47c3-cca8-abc1417ebb2b"
      },
      "execution_count": 74,
      "outputs": [
        {
          "output_type": "execute_result",
          "data": {
            "text/plain": [
              "diagnosis\n",
              "0    357\n",
              "1    212\n",
              "Name: count, dtype: int64"
            ],
            "text/html": [
              "<div>\n",
              "<style scoped>\n",
              "    .dataframe tbody tr th:only-of-type {\n",
              "        vertical-align: middle;\n",
              "    }\n",
              "\n",
              "    .dataframe tbody tr th {\n",
              "        vertical-align: top;\n",
              "    }\n",
              "\n",
              "    .dataframe thead th {\n",
              "        text-align: right;\n",
              "    }\n",
              "</style>\n",
              "<table border=\"1\" class=\"dataframe\">\n",
              "  <thead>\n",
              "    <tr style=\"text-align: right;\">\n",
              "      <th></th>\n",
              "      <th>count</th>\n",
              "    </tr>\n",
              "    <tr>\n",
              "      <th>diagnosis</th>\n",
              "      <th></th>\n",
              "    </tr>\n",
              "  </thead>\n",
              "  <tbody>\n",
              "    <tr>\n",
              "      <th>0</th>\n",
              "      <td>357</td>\n",
              "    </tr>\n",
              "    <tr>\n",
              "      <th>1</th>\n",
              "      <td>212</td>\n",
              "    </tr>\n",
              "  </tbody>\n",
              "</table>\n",
              "</div><br><label><b>dtype:</b> int64</label>"
            ]
          },
          "metadata": {},
          "execution_count": 74
        }
      ]
    },
    {
      "cell_type": "markdown",
      "source": [
        "0 == Benign\n",
        "\n",
        "1 == Malignant"
      ],
      "metadata": {
        "id": "-EQ3c5OcR3EE"
      }
    },
    {
      "cell_type": "code",
      "source": [
        "# Saperating the feature and target\n",
        "X = df.drop(columns=['diagnosis', 'Unnamed: 32'], axis=1)\n",
        "Y = df['diagnosis']"
      ],
      "metadata": {
        "id": "klvSHAagQjJ2"
      },
      "execution_count": 75,
      "outputs": []
    },
    {
      "cell_type": "code",
      "source": [
        "print(X)\n",
        "print(Y)"
      ],
      "metadata": {
        "colab": {
          "base_uri": "https://localhost:8080/"
        },
        "id": "Kt5wE9jLQenL",
        "outputId": "f10a508b-2e8b-47c4-b300-a128f7204c30"
      },
      "execution_count": 76,
      "outputs": [
        {
          "output_type": "stream",
          "name": "stdout",
          "text": [
            "           id  radius_mean  texture_mean  perimeter_mean  area_mean  \\\n",
            "0      842302        17.99         10.38          122.80     1001.0   \n",
            "1      842517        20.57         17.77          132.90     1326.0   \n",
            "2    84300903        19.69         21.25          130.00     1203.0   \n",
            "3    84348301        11.42         20.38           77.58      386.1   \n",
            "4    84358402        20.29         14.34          135.10     1297.0   \n",
            "..        ...          ...           ...             ...        ...   \n",
            "564    926424        21.56         22.39          142.00     1479.0   \n",
            "565    926682        20.13         28.25          131.20     1261.0   \n",
            "566    926954        16.60         28.08          108.30      858.1   \n",
            "567    927241        20.60         29.33          140.10     1265.0   \n",
            "568     92751         7.76         24.54           47.92      181.0   \n",
            "\n",
            "     smoothness_mean  compactness_mean  concavity_mean  concave points_mean  \\\n",
            "0            0.11840           0.27760         0.30010              0.14710   \n",
            "1            0.08474           0.07864         0.08690              0.07017   \n",
            "2            0.10960           0.15990         0.19740              0.12790   \n",
            "3            0.14250           0.28390         0.24140              0.10520   \n",
            "4            0.10030           0.13280         0.19800              0.10430   \n",
            "..               ...               ...             ...                  ...   \n",
            "564          0.11100           0.11590         0.24390              0.13890   \n",
            "565          0.09780           0.10340         0.14400              0.09791   \n",
            "566          0.08455           0.10230         0.09251              0.05302   \n",
            "567          0.11780           0.27700         0.35140              0.15200   \n",
            "568          0.05263           0.04362         0.00000              0.00000   \n",
            "\n",
            "     symmetry_mean  ...  radius_worst  texture_worst  perimeter_worst  \\\n",
            "0           0.2419  ...        25.380          17.33           184.60   \n",
            "1           0.1812  ...        24.990          23.41           158.80   \n",
            "2           0.2069  ...        23.570          25.53           152.50   \n",
            "3           0.2597  ...        14.910          26.50            98.87   \n",
            "4           0.1809  ...        22.540          16.67           152.20   \n",
            "..             ...  ...           ...            ...              ...   \n",
            "564         0.1726  ...        25.450          26.40           166.10   \n",
            "565         0.1752  ...        23.690          38.25           155.00   \n",
            "566         0.1590  ...        18.980          34.12           126.70   \n",
            "567         0.2397  ...        25.740          39.42           184.60   \n",
            "568         0.1587  ...         9.456          30.37            59.16   \n",
            "\n",
            "     area_worst  smoothness_worst  compactness_worst  concavity_worst  \\\n",
            "0        2019.0           0.16220            0.66560           0.7119   \n",
            "1        1956.0           0.12380            0.18660           0.2416   \n",
            "2        1709.0           0.14440            0.42450           0.4504   \n",
            "3         567.7           0.20980            0.86630           0.6869   \n",
            "4        1575.0           0.13740            0.20500           0.4000   \n",
            "..          ...               ...                ...              ...   \n",
            "564      2027.0           0.14100            0.21130           0.4107   \n",
            "565      1731.0           0.11660            0.19220           0.3215   \n",
            "566      1124.0           0.11390            0.30940           0.3403   \n",
            "567      1821.0           0.16500            0.86810           0.9387   \n",
            "568       268.6           0.08996            0.06444           0.0000   \n",
            "\n",
            "     concave points_worst  symmetry_worst  fractal_dimension_worst  \n",
            "0                  0.2654          0.4601                  0.11890  \n",
            "1                  0.1860          0.2750                  0.08902  \n",
            "2                  0.2430          0.3613                  0.08758  \n",
            "3                  0.2575          0.6638                  0.17300  \n",
            "4                  0.1625          0.2364                  0.07678  \n",
            "..                    ...             ...                      ...  \n",
            "564                0.2216          0.2060                  0.07115  \n",
            "565                0.1628          0.2572                  0.06637  \n",
            "566                0.1418          0.2218                  0.07820  \n",
            "567                0.2650          0.4087                  0.12400  \n",
            "568                0.0000          0.2871                  0.07039  \n",
            "\n",
            "[569 rows x 31 columns]\n",
            "0      1\n",
            "1      1\n",
            "2      1\n",
            "3      1\n",
            "4      1\n",
            "      ..\n",
            "564    1\n",
            "565    1\n",
            "566    1\n",
            "567    1\n",
            "568    0\n",
            "Name: diagnosis, Length: 569, dtype: int64\n"
          ]
        }
      ]
    },
    {
      "cell_type": "code",
      "source": [
        "# Train test split\n",
        "X_train, X_test, Y_train, Y_test = train_test_split(X, Y, test_size=0.2, random_state=2)"
      ],
      "metadata": {
        "id": "OtCARJuVSz38"
      },
      "execution_count": 77,
      "outputs": []
    },
    {
      "cell_type": "code",
      "source": [
        "print(X.shape, X_train.shape, X_test.shape)"
      ],
      "metadata": {
        "colab": {
          "base_uri": "https://localhost:8080/"
        },
        "id": "NgcMkcv4TR3j",
        "outputId": "64dee2de-c349-4e7b-e091-d2baec1dddae"
      },
      "execution_count": 78,
      "outputs": [
        {
          "output_type": "stream",
          "name": "stdout",
          "text": [
            "(569, 31) (455, 31) (114, 31)\n"
          ]
        }
      ]
    },
    {
      "cell_type": "code",
      "source": [
        "# standardize data\n",
        "scalar = StandardScaler()"
      ],
      "metadata": {
        "id": "Ekx8WbC9jrF4"
      },
      "execution_count": 79,
      "outputs": []
    },
    {
      "cell_type": "code",
      "source": [
        "X_train_std = scalar.transform(X_train)\n",
        "\n",
        "X_test_std = scalar.transform(X_test)"
      ],
      "metadata": {
        "id": "H3ESU07jkRnb"
      },
      "execution_count": 97,
      "outputs": []
    },
    {
      "cell_type": "markdown",
      "source": [
        "#### Building The Neural Network"
      ],
      "metadata": {
        "id": "fJapKdlMTa3V"
      }
    },
    {
      "cell_type": "markdown",
      "source": [
        "![image.png](data:image/png;base64,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)"
      ],
      "metadata": {
        "id": "FuX_DWafTgCc"
      }
    },
    {
      "cell_type": "markdown",
      "source": [
        "There are 3 types of layer in Neural Network"
      ],
      "metadata": {
        "id": "dCWqaXnHk4VV"
      }
    },
    {
      "cell_type": "code",
      "source": [
        "#importing tensorflow and keras\n",
        "import tensorflow as tf\n",
        "tf.random.set_seed(3)\n",
        "from tensorflow import keras"
      ],
      "metadata": {
        "id": "F4eOzaZtkhMG"
      },
      "execution_count": 81,
      "outputs": []
    },
    {
      "cell_type": "code",
      "source": [
        "# setting up the layers of Neural Network\n",
        "model = keras.Sequential([\n",
        "    keras.layers.Flatten(input_shape=(31,)),\n",
        "    keras.layers.Dense(20, activation='relu'),\n",
        "    keras.layers.Dense(2, activation='sigmoid')\n",
        "])"
      ],
      "metadata": {
        "colab": {
          "base_uri": "https://localhost:8080/"
        },
        "id": "OomS2j7OktnN",
        "outputId": "49052081-ca97-4c9d-83be-8853258178d8"
      },
      "execution_count": 85,
      "outputs": [
        {
          "output_type": "stream",
          "name": "stderr",
          "text": [
            "/usr/local/lib/python3.10/dist-packages/keras/src/layers/reshaping/flatten.py:37: UserWarning: Do not pass an `input_shape`/`input_dim` argument to a layer. When using Sequential models, prefer using an `Input(shape)` object as the first layer in the model instead.\n",
            "  super().__init__(**kwargs)\n"
          ]
        }
      ]
    },
    {
      "cell_type": "code",
      "source": [
        "# Compiling the Neural Network\n",
        "model.compile(optimizer='adam',\n",
        "              loss='sparse_categorical_crossentropy',\n",
        "              metrics=['accuracy'])"
      ],
      "metadata": {
        "id": "XkWErkOclEEn"
      },
      "execution_count": 86,
      "outputs": []
    },
    {
      "cell_type": "code",
      "source": [
        "# Training the Neural Network\n",
        "history = model.fit(X_train, Y_train, epochs=10, validation_split=0.1)"
      ],
      "metadata": {
        "colab": {
          "base_uri": "https://localhost:8080/"
        },
        "id": "ofX3gzValnND",
        "outputId": "3310e013-17cc-4fb4-f80b-69268d811567"
      },
      "execution_count": 87,
      "outputs": [
        {
          "output_type": "stream",
          "name": "stdout",
          "text": [
            "Epoch 1/10\n",
            "\u001b[1m13/13\u001b[0m \u001b[32m━━━━━━━━━━━━━━━━━━━━\u001b[0m\u001b[37m\u001b[0m \u001b[1m1s\u001b[0m 22ms/step - accuracy: 0.3500 - loss: 6539437.5000 - val_accuracy: 0.3478 - val_loss: 17541732.0000\n",
            "Epoch 2/10\n",
            "\u001b[1m13/13\u001b[0m \u001b[32m━━━━━━━━━━━━━━━━━━━━\u001b[0m\u001b[37m\u001b[0m \u001b[1m0s\u001b[0m 5ms/step - accuracy: 0.3500 - loss: 4947838.0000 - val_accuracy: 0.3478 - val_loss: 12392423.0000\n",
            "Epoch 3/10\n",
            "\u001b[1m13/13\u001b[0m \u001b[32m━━━━━━━━━━━━━━━━━━━━\u001b[0m\u001b[37m\u001b[0m \u001b[1m0s\u001b[0m 4ms/step - accuracy: 0.3500 - loss: 3397219.0000 - val_accuracy: 0.3478 - val_loss: 7305982.0000\n",
            "Epoch 4/10\n",
            "\u001b[1m13/13\u001b[0m \u001b[32m━━━━━━━━━━━━━━━━━━━━\u001b[0m\u001b[37m\u001b[0m \u001b[1m0s\u001b[0m 6ms/step - accuracy: 0.3500 - loss: 1864621.7500 - val_accuracy: 0.3696 - val_loss: 2273327.5000\n",
            "Epoch 5/10\n",
            "\u001b[1m13/13\u001b[0m \u001b[32m━━━━━━━━━━━━━━━━━━━━\u001b[0m\u001b[37m\u001b[0m \u001b[1m0s\u001b[0m 4ms/step - accuracy: 0.3940 - loss: 445764.5938 - val_accuracy: 0.6522 - val_loss: 99206.5000\n",
            "Epoch 6/10\n",
            "\u001b[1m13/13\u001b[0m \u001b[32m━━━━━━━━━━━━━━━━━━━━\u001b[0m\u001b[37m\u001b[0m \u001b[1m0s\u001b[0m 4ms/step - accuracy: 0.6346 - loss: 185032.3281 - val_accuracy: 0.3478 - val_loss: 370520.3438\n",
            "Epoch 7/10\n",
            "\u001b[1m13/13\u001b[0m \u001b[32m━━━━━━━━━━━━━━━━━━━━\u001b[0m\u001b[37m\u001b[0m \u001b[1m0s\u001b[0m 5ms/step - accuracy: 0.4278 - loss: 70275.7266 - val_accuracy: 0.5000 - val_loss: 4991.8223\n",
            "Epoch 8/10\n",
            "\u001b[1m13/13\u001b[0m \u001b[32m━━━━━━━━━━━━━━━━━━━━\u001b[0m\u001b[37m\u001b[0m \u001b[1m0s\u001b[0m 5ms/step - accuracy: 0.5635 - loss: 14858.2441 - val_accuracy: 0.3478 - val_loss: 22594.8008\n",
            "Epoch 9/10\n",
            "\u001b[1m13/13\u001b[0m \u001b[32m━━━━━━━━━━━━━━━━━━━━\u001b[0m\u001b[37m\u001b[0m \u001b[1m0s\u001b[0m 4ms/step - accuracy: 0.5010 - loss: 8560.1875 - val_accuracy: 0.6522 - val_loss: 3634.7632\n",
            "Epoch 10/10\n",
            "\u001b[1m13/13\u001b[0m \u001b[32m━━━━━━━━━━━━━━━━━━━━\u001b[0m\u001b[37m\u001b[0m \u001b[1m0s\u001b[0m 4ms/step - accuracy: 0.5473 - loss: 17991.5996 - val_accuracy: 0.3478 - val_loss: 246598.2812\n"
          ]
        }
      ]
    },
    {
      "cell_type": "markdown",
      "source": [
        "as you can see the accuracy went from 35% to 54% which is not good accuracy for a model.\n",
        "\n",
        "that's why we need to used standardazied data ---"
      ],
      "metadata": {
        "id": "ZQlTp1f9pHvJ"
      }
    },
    {
      "cell_type": "code",
      "source": [
        "# Training the Neural Network with standardazied data\n",
        "history = model.fit(X_train_std, Y_train, epochs=10, validation_split=0.1)"
      ],
      "metadata": {
        "colab": {
          "base_uri": "https://localhost:8080/"
        },
        "id": "8_7iFSIdpjL_",
        "outputId": "024f966a-f0c4-4f66-db89-68706401f0d7"
      },
      "execution_count": 92,
      "outputs": [
        {
          "output_type": "stream",
          "name": "stdout",
          "text": [
            "Epoch 1/10\n",
            "\u001b[1m13/13\u001b[0m \u001b[32m━━━━━━━━━━━━━━━━━━━━\u001b[0m\u001b[37m\u001b[0m \u001b[1m0s\u001b[0m 18ms/step - accuracy: 0.2575 - loss: 2.0360 - val_accuracy: 0.3478 - val_loss: 1.2939\n",
            "Epoch 2/10\n",
            "\u001b[1m13/13\u001b[0m \u001b[32m━━━━━━━━━━━━━━━━━━━━\u001b[0m\u001b[37m\u001b[0m \u001b[1m0s\u001b[0m 8ms/step - accuracy: 0.5530 - loss: 0.9070 - val_accuracy: 0.7609 - val_loss: 0.5031\n",
            "Epoch 3/10\n",
            "\u001b[1m13/13\u001b[0m \u001b[32m━━━━━━━━━━━━━━━━━━━━\u001b[0m\u001b[37m\u001b[0m \u001b[1m0s\u001b[0m 8ms/step - accuracy: 0.7982 - loss: 0.4282 - val_accuracy: 0.8913 - val_loss: 0.3258\n",
            "Epoch 4/10\n",
            "\u001b[1m13/13\u001b[0m \u001b[32m━━━━━━━━━━━━━━━━━━━━\u001b[0m\u001b[37m\u001b[0m \u001b[1m0s\u001b[0m 7ms/step - accuracy: 0.8632 - loss: 0.3091 - val_accuracy: 0.9348 - val_loss: 0.2647\n",
            "Epoch 5/10\n",
            "\u001b[1m13/13\u001b[0m \u001b[32m━━━━━━━━━━━━━━━━━━━━\u001b[0m\u001b[37m\u001b[0m \u001b[1m0s\u001b[0m 6ms/step - accuracy: 0.8926 - loss: 0.2572 - val_accuracy: 0.9130 - val_loss: 0.2304\n",
            "Epoch 6/10\n",
            "\u001b[1m13/13\u001b[0m \u001b[32m━━━━━━━━━━━━━━━━━━━━\u001b[0m\u001b[37m\u001b[0m \u001b[1m0s\u001b[0m 4ms/step - accuracy: 0.8986 - loss: 0.2245 - val_accuracy: 0.9348 - val_loss: 0.2063\n",
            "Epoch 7/10\n",
            "\u001b[1m13/13\u001b[0m \u001b[32m━━━━━━━━━━━━━━━━━━━━\u001b[0m\u001b[37m\u001b[0m \u001b[1m0s\u001b[0m 5ms/step - accuracy: 0.9092 - loss: 0.2010 - val_accuracy: 0.9565 - val_loss: 0.1871\n",
            "Epoch 8/10\n",
            "\u001b[1m13/13\u001b[0m \u001b[32m━━━━━━━━━━━━━━━━━━━━\u001b[0m\u001b[37m\u001b[0m \u001b[1m0s\u001b[0m 4ms/step - accuracy: 0.9179 - loss: 0.1825 - val_accuracy: 0.9565 - val_loss: 0.1718\n",
            "Epoch 9/10\n",
            "\u001b[1m13/13\u001b[0m \u001b[32m━━━━━━━━━━━━━━━━━━━━\u001b[0m\u001b[37m\u001b[0m \u001b[1m0s\u001b[0m 5ms/step - accuracy: 0.9229 - loss: 0.1675 - val_accuracy: 0.9565 - val_loss: 0.1592\n",
            "Epoch 10/10\n",
            "\u001b[1m13/13\u001b[0m \u001b[32m━━━━━━━━━━━━━━━━━━━━\u001b[0m\u001b[37m\u001b[0m \u001b[1m0s\u001b[0m 6ms/step - accuracy: 0.9229 - loss: 0.1548 - val_accuracy: 0.9565 - val_loss: 0.1488\n"
          ]
        }
      ]
    },
    {
      "cell_type": "markdown",
      "source": [
        "with standardized data we got 25% accuracy to 92% accuracy!!!\n",
        "\n",
        "So you can see standardizing data before training is very important."
      ],
      "metadata": {
        "id": "p_T6JYkVqRMI"
      }
    },
    {
      "cell_type": "code",
      "source": [
        "# Visualizing accuracy and loss\n",
        "\n",
        "plt.plot(history.history['accuracy'])\n",
        "plt.plot(history.history['val_accuracy'])\n",
        "plt.title('Model Accuracy')\n",
        "plt.ylabel('accuracy')\n",
        "plt.xlabel('epoch')\n",
        "plt.legend(['training data', 'validation data'], loc = 'lower right')\n",
        "plt.show()\n",
        "\n",
        "plt.plot(history.history['loss'])\n",
        "plt.plot(history.history['val_loss'])\n",
        "plt.title('Model Loss')\n",
        "plt.ylabel('loss')\n",
        "plt.xlabel('epoch')\n",
        "plt.legend(['training data', 'validation data'], loc = 'upper right')\n",
        "plt.show()"
      ],
      "metadata": {
        "colab": {
          "base_uri": "https://localhost:8080/",
          "height": 927
        },
        "id": "0OfbrXGZq5Pv",
        "outputId": "11ba7f1e-196b-4b14-bede-f7ca572ad27e"
      },
      "execution_count": 94,
      "outputs": [
        {
          "output_type": "display_data",
          "data": {
            "text/plain": [
              "<Figure size 640x480 with 1 Axes>"
            ],
            "image/png": "[encoded data removed]"
          },
          "metadata": {}
        },
        {
          "output_type": "display_data",
          "data": {
            "text/plain": [
              "<Figure size 640x480 with 1 Axes>"
            ],
            "image/png": "[encoded data removed]"
          },
          "metadata": {}
        }
      ]
    },
    {
      "cell_type": "code",
      "source": [
        "# Accuracy of the model on test data\n",
        "loss, acc = model.evaluate(X_test_std, Y_test)\n",
        "print('Test Accuracy: ', acc)"
      ],
      "metadata": {
        "colab": {
          "base_uri": "https://localhost:8080/"
        },
        "id": "Av42gNpwr8gG",
        "outputId": "d9d62c9e-eeda-45e2-da7e-ef0736477433"
      },
      "execution_count": 98,
      "outputs": [
        {
          "output_type": "stream",
          "name": "stdout",
          "text": [
            "\u001b[1m4/4\u001b[0m \u001b[32m━━━━━━━━━━━━━━━━━━━━\u001b[0m\u001b[37m\u001b[0m \u001b[1m0s\u001b[0m 3ms/step - accuracy: 0.9321 - loss: 0.1820 \n",
            "Test Accuracy:  0.9473684430122375\n"
          ]
        }
      ]
    },
    {
      "cell_type": "code",
      "source": [
        "print(X_test_std.shape)\n",
        "print(X_test_std[0])"
      ],
      "metadata": {
        "colab": {
          "base_uri": "https://localhost:8080/"
        },
        "id": "xK46jX8ksAoN",
        "outputId": "65d00639-c1f4-4549-c88f-4c81c2e40c45"
      },
      "execution_count": 99,
      "outputs": [
        {
          "output_type": "stream",
          "name": "stdout",
          "text": [
            "(114, 31)\n",
            "[-0.22064846 -0.08700339 -1.47192915 -0.10537391 -0.21479674  2.05627941\n",
            " -0.18759821  0.04345969  0.3431473   0.48693221  0.20971492  0.41483725\n",
            "  2.38110688  0.53816721  0.01895993  0.95128447  0.31678369  0.28189043\n",
            "  2.21465008 -0.39276605  0.44485916 -0.3863489  -1.69650664 -0.42190004\n",
            " -0.44557481  0.23041821 -0.75521902 -0.60192371 -0.26629174 -1.09776353\n",
            " -0.65597459]\n"
          ]
        }
      ]
    },
    {
      "cell_type": "code",
      "source": [
        "Y_pred = model.predict(X_test_std)\n",
        "print(Y_pred.shape)\n",
        "print(Y_pred[0])"
      ],
      "metadata": {
        "colab": {
          "base_uri": "https://localhost:8080/"
        },
        "id": "sJB1mztAsdtV",
        "outputId": "bd25b8d2-7f17-448e-f978-73e4ee7e564e"
      },
      "execution_count": 102,
      "outputs": [
        {
          "output_type": "stream",
          "name": "stdout",
          "text": [
            "\u001b[1m4/4\u001b[0m \u001b[32m━━━━━━━━━━━━━━━━━━━━\u001b[0m\u001b[37m\u001b[0m \u001b[1m0s\u001b[0m 9ms/step \n",
            "(114, 2)\n",
            "[0.47665608 0.6053425 ]\n"
          ]
        }
      ]
    },
    {
      "cell_type": "markdown",
      "source": [
        "Here the probability of the target result being 0 is 47% and 1 is 60%.\n",
        "\n",
        "The highest probability is the result."
      ],
      "metadata": {
        "id": "amQ0QOThtK5u"
      }
    },
    {
      "cell_type": "code",
      "source": [
        "# armax function -- max index of array\n",
        "my_list = [10, 30, 20]\n",
        "\n",
        "index_of_max = my_list.index(max(my_list))\n",
        "print(my_list)\n",
        "print(index_of_max)"
      ],
      "metadata": {
        "colab": {
          "base_uri": "https://localhost:8080/"
        },
        "id": "745z7kJGswsu",
        "outputId": "fae84ea4-a1ad-40b5-a8c9-0545c91d126b"
      },
      "execution_count": 108,
      "outputs": [
        {
          "output_type": "stream",
          "name": "stdout",
          "text": [
            "[10, 30, 20]\n",
            "1\n"
          ]
        }
      ]
    },
    {
      "cell_type": "code",
      "source": [
        "# converting the prediction probality to class lebels\n",
        "Y_pred_labels = [np.argmax(i) for i in Y_pred]\n",
        "print(Y_pred_labels)"
      ],
      "metadata": {
        "colab": {
          "base_uri": "https://localhost:8080/"
        },
        "id": "k2qFRtr8tv_k",
        "outputId": "39184b52-6206-4aa3-860f-f9f19901c58b"
      },
      "execution_count": 109,
      "outputs": [
        {
          "output_type": "stream",
          "name": "stdout",
          "text": [
            "[1, 0, 0, 1, 0, 1, 0, 0, 0, 0, 0, 0, 1, 0, 0, 1, 0, 0, 0, 1, 0, 0, 0, 0, 0, 1, 0, 0, 1, 1, 0, 0, 0, 1, 1, 0, 0, 0, 0, 0, 1, 1, 0, 0, 1, 0, 0, 0, 1, 1, 0, 1, 0, 0, 0, 0, 0, 0, 1, 0, 0, 1, 0, 1, 1, 0, 1, 1, 0, 0, 1, 1, 0, 1, 0, 1, 0, 0, 0, 1, 1, 1, 1, 0, 0, 0, 0, 0, 0, 1, 0, 0, 0, 1, 1, 0, 1, 1, 0, 0, 0, 1, 1, 1, 0, 0, 0, 0, 0, 0, 1, 1, 1, 1]\n"
          ]
        }
      ]
    },
    {
      "cell_type": "code",
      "source": [
        "# Building the predictive system\n",
        "input_data = (842517,20.57,17.77,132.9,1326,0.08474,0.07864,0.0869,0.07017,0.1812,0.05667,0.5435,0.7339,3.398,74.08,0.005225,0.01308,0.0186,0.0134,0.01389,0.003532,24.99,23.41,158.8,1956,0.1238,0.1866,0.2416,0.186,0.275,0.08902)\n",
        "\n",
        "# change the input_data to a numpy array\n",
        "input_data_as_numpy_array = np.asarray(input_data)\n",
        "\n",
        "# reshape the np array as we are predicting for one instance\n",
        "input_data_reshaped = input_data_as_numpy_array.reshape(1,-1)\n",
        "\n",
        "# standardizing data\n",
        "input_data_std = scalar.transform(input_data_reshaped)\n",
        "\n",
        "prediction = model.predict(input_data_std)\n",
        "print(prediction)\n",
        "\n",
        "prediction_label = [np.argmax(prediction)]\n",
        "print(prediction_label)\n",
        "\n",
        "if (prediction_label[0] == 1):\n",
        "  print('The tumor is Malignant')\n",
        "else:\n",
        "  print('The tumor is Benign')"
      ],
      "metadata": {
        "colab": {
          "base_uri": "https://localhost:8080/"
        },
        "id": "kMCi2bWNvMpV",
        "outputId": "63409feb-92cb-4248-cffe-85ec857fb24f"
      },
      "execution_count": 120,
      "outputs": [
        {
          "output_type": "stream",
          "name": "stdout",
          "text": [
            "\u001b[1m1/1\u001b[0m \u001b[32m━━━━━━━━━━━━━━━━━━━━\u001b[0m\u001b[37m\u001b[0m \u001b[1m0s\u001b[0m 30ms/step\n",
            "[[0.3259777 0.8626244]]\n",
            "[1]\n",
            "The tumor is Malignant\n"
          ]
        },
        {
          "output_type": "stream",
          "name": "stderr",
          "text": [
            "/usr/local/lib/python3.10/dist-packages/sklearn/base.py:465: UserWarning: X does not have valid feature names, but StandardScaler was fitted with feature names\n",
            "  warnings.warn(\n"
          ]
        }
      ]
    },
    {
      "cell_type": "code",
      "source": [
        "# Building the predictive system\n",
        "input_data = (874662,11.81,17.39,75.27,428.9,0.1007,0.05562,0.02353,0.01553,0.1718,0.0578,0.1859,1.926,1.011,14.47,0.007831,0.008776,0.01556,0.00624,0.03139,0.001988,12.57,26.48,79.57,489.5,0.1356,0.1,0.08803,0.04306,0.32,0.06576)\n",
        "\n",
        "# change the input_data to a numpy array\n",
        "input_data_as_numpy_array = np.asarray(input_data)\n",
        "\n",
        "# reshape the np array as we are predicting for one instance\n",
        "input_data_reshaped = input_data_as_numpy_array.reshape(1,-1)\n",
        "\n",
        "# standardizing data\n",
        "input_data_std = scalar.transform(input_data_reshaped)\n",
        "\n",
        "prediction = model.predict(input_data_std)\n",
        "print(prediction)\n",
        "\n",
        "prediction_label = [np.argmax(prediction)]\n",
        "print(prediction_label)\n",
        "\n",
        "if (prediction_label[0] == 1):\n",
        "  print('The tumor is Malignant')\n",
        "else:\n",
        "  print('The tumor is Benign')"
      ],
      "metadata": {
        "colab": {
          "base_uri": "https://localhost:8080/"
        },
        "id": "3jbR6k_pv-b_",
        "outputId": "c57a24bb-9ee2-47e1-a478-462b847632cf"
      },
      "execution_count": 121,
      "outputs": [
        {
          "output_type": "stream",
          "name": "stdout",
          "text": [
            "\u001b[1m1/1\u001b[0m \u001b[32m━━━━━━━━━━━━━━━━━━━━\u001b[0m\u001b[37m\u001b[0m \u001b[1m0s\u001b[0m 42ms/step\n",
            "[[0.9265789  0.06612639]]\n",
            "[0]\n",
            "The tumor is Benign\n"
          ]
        },
        {
          "output_type": "stream",
          "name": "stderr",
          "text": [
            "/usr/local/lib/python3.10/dist-packages/sklearn/base.py:465: UserWarning: X does not have valid feature names, but StandardScaler was fitted with feature names\n",
            "  warnings.warn(\n"
          ]
        }
      ]
    }
  ]
}