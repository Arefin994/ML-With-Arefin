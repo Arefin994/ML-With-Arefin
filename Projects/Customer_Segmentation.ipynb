{
  "nbformat": 4,
  "nbformat_minor": 0,
  "metadata": {
    "colab": {
      "provenance": []
    },
    "kernelspec": {
      "name": "python3",
      "display_name": "Python 3"
    },
    "language_info": {
      "name": "python"
    }
  },
  "cells": [
    {
      "cell_type": "markdown",
      "source": [
        "## About the project"
      ],
      "metadata": {
        "id": "gryq9TIk7XWD"
      }
    },
    {
      "cell_type": "markdown",
      "source": [
        "In this project we will segment the customers by their spending and buying patterns."
      ],
      "metadata": {
        "id": "XFoYXrAA7XJz"
      }
    },
    {
      "cell_type": "markdown",
      "source": [
        "Suppose you are a data scientist and you have to cluster customers to get better insights and make better business decision."
      ],
      "metadata": {
        "id": "sTRMkXIU79wS"
      }
    },
    {
      "cell_type": "markdown",
      "source": [
        "This is a unsupervised learning problem where we use kmean clustering. No lebels will be mentioned."
      ],
      "metadata": {
        "id": "4QgF9puhVUiZ"
      }
    },
    {
      "cell_type": "markdown",
      "source": [
        "## Workflow"
      ],
      "metadata": {
        "id": "MnxDmhLT7XHL"
      }
    },
    {
      "cell_type": "markdown",
      "source": [
        "Customer data => Data pre-processing => Data Analysis => within cluster sum of squre (Optimum number of cluster) => K-mean cluster => Visualize the clusters"
      ],
      "metadata": {
        "id": "9erVxGpD7XEU"
      }
    },
    {
      "cell_type": "markdown",
      "source": [
        "## Code"
      ],
      "metadata": {
        "id": "Id3JOn0X7XBT"
      }
    },
    {
      "cell_type": "code",
      "source": [
        "# imporintg the deps\n",
        "import numpy as np\n",
        "import pandas as pd\n",
        "import matplotlib.pyplot as plt\n",
        "import seaborn as sns\n",
        "from sklearn.cluster import KMeans"
      ],
      "metadata": {
        "id": "s-Vwd0f97YbD"
      },
      "execution_count": 10,
      "outputs": []
    },
    {
      "cell_type": "code",
      "source": [
        "data = pd.read_csv('/content/Mall_Customers.csv')"
      ],
      "metadata": {
        "id": "o8WsPmbM9VRL"
      },
      "execution_count": 11,
      "outputs": []
    },
    {
      "cell_type": "code",
      "source": [
        "data.head()"
      ],
      "metadata": {
        "colab": {
          "base_uri": "https://localhost:8080/",
          "height": 206
        },
        "id": "wDxmotUS-PYb",
        "outputId": "08549c0f-046b-4804-a003-cfe22ff9b46c"
      },
      "execution_count": 12,
      "outputs": [
        {
          "output_type": "execute_result",
          "data": {
            "text/plain": [
              "   CustomerID  Gender  Age  Annual Income (k$)  Spending Score (1-100)\n",
              "0           1    Male   19                  15                      39\n",
              "1           2    Male   21                  15                      81\n",
              "2           3  Female   20                  16                       6\n",
              "3           4  Female   23                  16                      77\n",
              "4           5  Female   31                  17                      40"
            ],
            "text/html": [
              "\n",
              "  <div id=\"df-b3a1fa63-9016-4af8-9c60-20764864094f\" class=\"colab-df-container\">\n",
              "    <div>\n",
              "<style scoped>\n",
              "    .dataframe tbody tr th:only-of-type {\n",
              "        vertical-align: middle;\n",
              "    }\n",
              "\n",
              "    .dataframe tbody tr th {\n",
              "        vertical-align: top;\n",
              "    }\n",
              "\n",
              "    .dataframe thead th {\n",
              "        text-align: right;\n",
              "    }\n",
              "</style>\n",
              "<table border=\"1\" class=\"dataframe\">\n",
              "  <thead>\n",
              "    <tr style=\"text-align: right;\">\n",
              "      <th></th>\n",
              "      <th>CustomerID</th>\n",
              "      <th>Gender</th>\n",
              "      <th>Age</th>\n",
              "      <th>Annual Income (k$)</th>\n",
              "      <th>Spending Score (1-100)</th>\n",
              "    </tr>\n",
              "  </thead>\n",
              "  <tbody>\n",
              "    <tr>\n",
              "      <th>0</th>\n",
              "      <td>1</td>\n",
              "      <td>Male</td>\n",
              "      <td>19</td>\n",
              "      <td>15</td>\n",
              "      <td>39</td>\n",
              "    </tr>\n",
              "    <tr>\n",
              "      <th>1</th>\n",
              "      <td>2</td>\n",
              "      <td>Male</td>\n",
              "      <td>21</td>\n",
              "      <td>15</td>\n",
              "      <td>81</td>\n",
              "    </tr>\n",
              "    <tr>\n",
              "      <th>2</th>\n",
              "      <td>3</td>\n",
              "      <td>Female</td>\n",
              "      <td>20</td>\n",
              "      <td>16</td>\n",
              "      <td>6</td>\n",
              "    </tr>\n",
              "    <tr>\n",
              "      <th>3</th>\n",
              "      <td>4</td>\n",
              "      <td>Female</td>\n",
              "      <td>23</td>\n",
              "      <td>16</td>\n",
              "      <td>77</td>\n",
              "    </tr>\n",
              "    <tr>\n",
              "      <th>4</th>\n",
              "      <td>5</td>\n",
              "      <td>Female</td>\n",
              "      <td>31</td>\n",
              "      <td>17</td>\n",
              "      <td>40</td>\n",
              "    </tr>\n",
              "  </tbody>\n",
              "</table>\n",
              "</div>\n",
              "    <div class=\"colab-df-buttons\">\n",
              "\n",
              "  <div class=\"colab-df-container\">\n",
              "    <button class=\"colab-df-convert\" onclick=\"convertToInteractive('df-b3a1fa63-9016-4af8-9c60-20764864094f')\"\n",
              "            title=\"Convert this dataframe to an interactive table.\"\n",
              "            style=\"display:none;\">\n",
              "\n",
              "  <svg xmlns=\"http://www.w3.org/2000/svg\" height=\"24px\" viewBox=\"0 -960 960 960\">\n",
              "    <path d=\"M120-120v-720h720v720H120Zm60-500h600v-160H180v160Zm220 220h160v-160H400v160Zm0 220h160v-160H400v160ZM180-400h160v-160H180v160Zm440 0h160v-160H620v160ZM180-180h160v-160H180v160Zm440 0h160v-160H620v160Z\"/>\n",
              "  </svg>\n",
              "    </button>\n",
              "\n",
              "  <style>\n",
              "    .colab-df-container {\n",
              "      display:flex;\n",
              "      gap: 12px;\n",
              "    }\n",
              "\n",
              "    .colab-df-convert {\n",
              "      background-color: #E8F0FE;\n",
              "      border: none;\n",
              "      border-radius: 50%;\n",
              "      cursor: pointer;\n",
              "      display: none;\n",
              "      fill: #1967D2;\n",
              "      height: 32px;\n",
              "      padding: 0 0 0 0;\n",
              "      width: 32px;\n",
              "    }\n",
              "\n",
              "    .colab-df-convert:hover {\n",
              "      background-color: #E2EBFA;\n",
              "      box-shadow: 0px 1px 2px rgba(60, 64, 67, 0.3), 0px 1px 3px 1px rgba(60, 64, 67, 0.15);\n",
              "      fill: #174EA6;\n",
              "    }\n",
              "\n",
              "    .colab-df-buttons div {\n",
              "      margin-bottom: 4px;\n",
              "    }\n",
              "\n",
              "    [theme=dark] .colab-df-convert {\n",
              "      background-color: #3B4455;\n",
              "      fill: #D2E3FC;\n",
              "    }\n",
              "\n",
              "    [theme=dark] .colab-df-convert:hover {\n",
              "      background-color: #434B5C;\n",
              "      box-shadow: 0px 1px 3px 1px rgba(0, 0, 0, 0.15);\n",
              "      filter: drop-shadow(0px 1px 2px rgba(0, 0, 0, 0.3));\n",
              "      fill: #FFFFFF;\n",
              "    }\n",
              "  </style>\n",
              "\n",
              "    <script>\n",
              "      const buttonEl =\n",
              "        document.querySelector('#df-b3a1fa63-9016-4af8-9c60-20764864094f button.colab-df-convert');\n",
              "      buttonEl.style.display =\n",
              "        google.colab.kernel.accessAllowed ? 'block' : 'none';\n",
              "\n",
              "      async function convertToInteractive(key) {\n",
              "        const element = document.querySelector('#df-b3a1fa63-9016-4af8-9c60-20764864094f');\n",
              "        const dataTable =\n",
              "          await google.colab.kernel.invokeFunction('convertToInteractive',\n",
              "                                                    [key], {});\n",
              "        if (!dataTable) return;\n",
              "\n",
              "        const docLinkHtml = 'Like what you see? Visit the ' +\n",
              "          '<a target=\"_blank\" href=https://colab.research.google.com/notebooks/data_table.ipynb>data table notebook</a>'\n",
              "          + ' to learn more about interactive tables.';\n",
              "        element.innerHTML = '';\n",
              "        dataTable['output_type'] = 'display_data';\n",
              "        await google.colab.output.renderOutput(dataTable, element);\n",
              "        const docLink = document.createElement('div');\n",
              "        docLink.innerHTML = docLinkHtml;\n",
              "        element.appendChild(docLink);\n",
              "      }\n",
              "    </script>\n",
              "  </div>\n",
              "\n",
              "\n",
              "<div id=\"df-7114ad0b-4c9b-4c9d-bd37-adcdebf60274\">\n",
              "  <button class=\"colab-df-quickchart\" onclick=\"quickchart('df-7114ad0b-4c9b-4c9d-bd37-adcdebf60274')\"\n",
              "            title=\"Suggest charts\"\n",
              "            style=\"display:none;\">\n",
              "\n",
              "<svg xmlns=\"http://www.w3.org/2000/svg\" height=\"24px\"viewBox=\"0 0 24 24\"\n",
              "     width=\"24px\">\n",
              "    <g>\n",
              "        <path d=\"M19 3H5c-1.1 0-2 .9-2 2v14c0 1.1.9 2 2 2h14c1.1 0 2-.9 2-2V5c0-1.1-.9-2-2-2zM9 17H7v-7h2v7zm4 0h-2V7h2v10zm4 0h-2v-4h2v4z\"/>\n",
              "    </g>\n",
              "</svg>\n",
              "  </button>\n",
              "\n",
              "<style>\n",
              "  .colab-df-quickchart {\n",
              "      --bg-color: #E8F0FE;\n",
              "      --fill-color: #1967D2;\n",
              "      --hover-bg-color: #E2EBFA;\n",
              "      --hover-fill-color: #174EA6;\n",
              "      --disabled-fill-color: #AAA;\n",
              "      --disabled-bg-color: #DDD;\n",
              "  }\n",
              "\n",
              "  [theme=dark] .colab-df-quickchart {\n",
              "      --bg-color: #3B4455;\n",
              "      --fill-color: #D2E3FC;\n",
              "      --hover-bg-color: #434B5C;\n",
              "      --hover-fill-color: #FFFFFF;\n",
              "      --disabled-bg-color: #3B4455;\n",
              "      --disabled-fill-color: #666;\n",
              "  }\n",
              "\n",
              "  .colab-df-quickchart {\n",
              "    background-color: var(--bg-color);\n",
              "    border: none;\n",
              "    border-radius: 50%;\n",
              "    cursor: pointer;\n",
              "    display: none;\n",
              "    fill: var(--fill-color);\n",
              "    height: 32px;\n",
              "    padding: 0;\n",
              "    width: 32px;\n",
              "  }\n",
              "\n",
              "  .colab-df-quickchart:hover {\n",
              "    background-color: var(--hover-bg-color);\n",
              "    box-shadow: 0 1px 2px rgba(60, 64, 67, 0.3), 0 1px 3px 1px rgba(60, 64, 67, 0.15);\n",
              "    fill: var(--button-hover-fill-color);\n",
              "  }\n",
              "\n",
              "  .colab-df-quickchart-complete:disabled,\n",
              "  .colab-df-quickchart-complete:disabled:hover {\n",
              "    background-color: var(--disabled-bg-color);\n",
              "    fill: var(--disabled-fill-color);\n",
              "    box-shadow: none;\n",
              "  }\n",
              "\n",
              "  .colab-df-spinner {\n",
              "    border: 2px solid var(--fill-color);\n",
              "    border-color: transparent;\n",
              "    border-bottom-color: var(--fill-color);\n",
              "    animation:\n",
              "      spin 1s steps(1) infinite;\n",
              "  }\n",
              "\n",
              "  @keyframes spin {\n",
              "    0% {\n",
              "      border-color: transparent;\n",
              "      border-bottom-color: var(--fill-color);\n",
              "      border-left-color: var(--fill-color);\n",
              "    }\n",
              "    20% {\n",
              "      border-color: transparent;\n",
              "      border-left-color: var(--fill-color);\n",
              "      border-top-color: var(--fill-color);\n",
              "    }\n",
              "    30% {\n",
              "      border-color: transparent;\n",
              "      border-left-color: var(--fill-color);\n",
              "      border-top-color: var(--fill-color);\n",
              "      border-right-color: var(--fill-color);\n",
              "    }\n",
              "    40% {\n",
              "      border-color: transparent;\n",
              "      border-right-color: var(--fill-color);\n",
              "      border-top-color: var(--fill-color);\n",
              "    }\n",
              "    60% {\n",
              "      border-color: transparent;\n",
              "      border-right-color: var(--fill-color);\n",
              "    }\n",
              "    80% {\n",
              "      border-color: transparent;\n",
              "      border-right-color: var(--fill-color);\n",
              "      border-bottom-color: var(--fill-color);\n",
              "    }\n",
              "    90% {\n",
              "      border-color: transparent;\n",
              "      border-bottom-color: var(--fill-color);\n",
              "    }\n",
              "  }\n",
              "</style>\n",
              "\n",
              "  <script>\n",
              "    async function quickchart(key) {\n",
              "      const quickchartButtonEl =\n",
              "        document.querySelector('#' + key + ' button');\n",
              "      quickchartButtonEl.disabled = true;  // To prevent multiple clicks.\n",
              "      quickchartButtonEl.classList.add('colab-df-spinner');\n",
              "      try {\n",
              "        const charts = await google.colab.kernel.invokeFunction(\n",
              "            'suggestCharts', [key], {});\n",
              "      } catch (error) {\n",
              "        console.error('Error during call to suggestCharts:', error);\n",
              "      }\n",
              "      quickchartButtonEl.classList.remove('colab-df-spinner');\n",
              "      quickchartButtonEl.classList.add('colab-df-quickchart-complete');\n",
              "    }\n",
              "    (() => {\n",
              "      let quickchartButtonEl =\n",
              "        document.querySelector('#df-7114ad0b-4c9b-4c9d-bd37-adcdebf60274 button');\n",
              "      quickchartButtonEl.style.display =\n",
              "        google.colab.kernel.accessAllowed ? 'block' : 'none';\n",
              "    })();\n",
              "  </script>\n",
              "</div>\n",
              "\n",
              "    </div>\n",
              "  </div>\n"
            ],
            "application/vnd.google.colaboratory.intrinsic+json": {
              "type": "dataframe",
              "variable_name": "data",
              "summary": "{\n  \"name\": \"data\",\n  \"rows\": 200,\n  \"fields\": [\n    {\n      \"column\": \"CustomerID\",\n      \"properties\": {\n        \"dtype\": \"number\",\n        \"std\": 57,\n        \"min\": 1,\n        \"max\": 200,\n        \"num_unique_values\": 200,\n        \"samples\": [\n          96,\n          16,\n          31\n        ],\n        \"semantic_type\": \"\",\n        \"description\": \"\"\n      }\n    },\n    {\n      \"column\": \"Gender\",\n      \"properties\": {\n        \"dtype\": \"category\",\n        \"num_unique_values\": 2,\n        \"samples\": [\n          \"Female\",\n          \"Male\"\n        ],\n        \"semantic_type\": \"\",\n        \"description\": \"\"\n      }\n    },\n    {\n      \"column\": \"Age\",\n      \"properties\": {\n        \"dtype\": \"number\",\n        \"std\": 13,\n        \"min\": 18,\n        \"max\": 70,\n        \"num_unique_values\": 51,\n        \"samples\": [\n          55,\n          26\n        ],\n        \"semantic_type\": \"\",\n        \"description\": \"\"\n      }\n    },\n    {\n      \"column\": \"Annual Income (k$)\",\n      \"properties\": {\n        \"dtype\": \"number\",\n        \"std\": 26,\n        \"min\": 15,\n        \"max\": 137,\n        \"num_unique_values\": 64,\n        \"samples\": [\n          87,\n          101\n        ],\n        \"semantic_type\": \"\",\n        \"description\": \"\"\n      }\n    },\n    {\n      \"column\": \"Spending Score (1-100)\",\n      \"properties\": {\n        \"dtype\": \"number\",\n        \"std\": 25,\n        \"min\": 1,\n        \"max\": 99,\n        \"num_unique_values\": 84,\n        \"samples\": [\n          83,\n          39\n        ],\n        \"semantic_type\": \"\",\n        \"description\": \"\"\n      }\n    }\n  ]\n}"
            }
          },
          "metadata": {},
          "execution_count": 12
        }
      ]
    },
    {
      "cell_type": "code",
      "source": [
        "data.shape"
      ],
      "metadata": {
        "colab": {
          "base_uri": "https://localhost:8080/"
        },
        "id": "j8JWub-K-PV6",
        "outputId": "1aaa142f-3f4f-4eef-d8b8-0d262b992a53"
      },
      "execution_count": 13,
      "outputs": [
        {
          "output_type": "execute_result",
          "data": {
            "text/plain": [
              "(200, 5)"
            ]
          },
          "metadata": {},
          "execution_count": 13
        }
      ]
    },
    {
      "cell_type": "code",
      "source": [
        "data.info()"
      ],
      "metadata": {
        "colab": {
          "base_uri": "https://localhost:8080/"
        },
        "id": "UjG8sQuq-PTI",
        "outputId": "b91cc403-4951-48dc-db63-b4670da0fa56"
      },
      "execution_count": 14,
      "outputs": [
        {
          "output_type": "stream",
          "name": "stdout",
          "text": [
            "<class 'pandas.core.frame.DataFrame'>\n",
            "RangeIndex: 200 entries, 0 to 199\n",
            "Data columns (total 5 columns):\n",
            " #   Column                  Non-Null Count  Dtype \n",
            "---  ------                  --------------  ----- \n",
            " 0   CustomerID              200 non-null    int64 \n",
            " 1   Gender                  200 non-null    object\n",
            " 2   Age                     200 non-null    int64 \n",
            " 3   Annual Income (k$)      200 non-null    int64 \n",
            " 4   Spending Score (1-100)  200 non-null    int64 \n",
            "dtypes: int64(4), object(1)\n",
            "memory usage: 7.9+ KB\n"
          ]
        }
      ]
    },
    {
      "cell_type": "code",
      "source": [
        "data.isna().sum()"
      ],
      "metadata": {
        "colab": {
          "base_uri": "https://localhost:8080/",
          "height": 241
        },
        "id": "9yspLd4k-PQg",
        "outputId": "796150a3-0627-4eed-8483-322a9ca1a91a"
      },
      "execution_count": 15,
      "outputs": [
        {
          "output_type": "execute_result",
          "data": {
            "text/plain": [
              "CustomerID                0\n",
              "Gender                    0\n",
              "Age                       0\n",
              "Annual Income (k$)        0\n",
              "Spending Score (1-100)    0\n",
              "dtype: int64"
            ],
            "text/html": [
              "<div>\n",
              "<style scoped>\n",
              "    .dataframe tbody tr th:only-of-type {\n",
              "        vertical-align: middle;\n",
              "    }\n",
              "\n",
              "    .dataframe tbody tr th {\n",
              "        vertical-align: top;\n",
              "    }\n",
              "\n",
              "    .dataframe thead th {\n",
              "        text-align: right;\n",
              "    }\n",
              "</style>\n",
              "<table border=\"1\" class=\"dataframe\">\n",
              "  <thead>\n",
              "    <tr style=\"text-align: right;\">\n",
              "      <th></th>\n",
              "      <th>0</th>\n",
              "    </tr>\n",
              "  </thead>\n",
              "  <tbody>\n",
              "    <tr>\n",
              "      <th>CustomerID</th>\n",
              "      <td>0</td>\n",
              "    </tr>\n",
              "    <tr>\n",
              "      <th>Gender</th>\n",
              "      <td>0</td>\n",
              "    </tr>\n",
              "    <tr>\n",
              "      <th>Age</th>\n",
              "      <td>0</td>\n",
              "    </tr>\n",
              "    <tr>\n",
              "      <th>Annual Income (k$)</th>\n",
              "      <td>0</td>\n",
              "    </tr>\n",
              "    <tr>\n",
              "      <th>Spending Score (1-100)</th>\n",
              "      <td>0</td>\n",
              "    </tr>\n",
              "  </tbody>\n",
              "</table>\n",
              "</div><br><label><b>dtype:</b> int64</label>"
            ]
          },
          "metadata": {},
          "execution_count": 15
        }
      ]
    },
    {
      "cell_type": "code",
      "source": [
        "# Choosing the features for clustering\n",
        "X = data.iloc[:,[3,4]].values"
      ],
      "metadata": {
        "id": "iNLUhHva-PN4"
      },
      "execution_count": 17,
      "outputs": []
    },
    {
      "cell_type": "code",
      "source": [
        "print(X)"
      ],
      "metadata": {
        "colab": {
          "base_uri": "https://localhost:8080/"
        },
        "id": "6jvTBV48SNoD",
        "outputId": "d5213daa-f417-4699-fac2-799c932c9e83"
      },
      "execution_count": 18,
      "outputs": [
        {
          "output_type": "stream",
          "name": "stdout",
          "text": [
            "[[ 15  39]\n",
            " [ 15  81]\n",
            " [ 16   6]\n",
            " [ 16  77]\n",
            " [ 17  40]\n",
            " [ 17  76]\n",
            " [ 18   6]\n",
            " [ 18  94]\n",
            " [ 19   3]\n",
            " [ 19  72]\n",
            " [ 19  14]\n",
            " [ 19  99]\n",
            " [ 20  15]\n",
            " [ 20  77]\n",
            " [ 20  13]\n",
            " [ 20  79]\n",
            " [ 21  35]\n",
            " [ 21  66]\n",
            " [ 23  29]\n",
            " [ 23  98]\n",
            " [ 24  35]\n",
            " [ 24  73]\n",
            " [ 25   5]\n",
            " [ 25  73]\n",
            " [ 28  14]\n",
            " [ 28  82]\n",
            " [ 28  32]\n",
            " [ 28  61]\n",
            " [ 29  31]\n",
            " [ 29  87]\n",
            " [ 30   4]\n",
            " [ 30  73]\n",
            " [ 33   4]\n",
            " [ 33  92]\n",
            " [ 33  14]\n",
            " [ 33  81]\n",
            " [ 34  17]\n",
            " [ 34  73]\n",
            " [ 37  26]\n",
            " [ 37  75]\n",
            " [ 38  35]\n",
            " [ 38  92]\n",
            " [ 39  36]\n",
            " [ 39  61]\n",
            " [ 39  28]\n",
            " [ 39  65]\n",
            " [ 40  55]\n",
            " [ 40  47]\n",
            " [ 40  42]\n",
            " [ 40  42]\n",
            " [ 42  52]\n",
            " [ 42  60]\n",
            " [ 43  54]\n",
            " [ 43  60]\n",
            " [ 43  45]\n",
            " [ 43  41]\n",
            " [ 44  50]\n",
            " [ 44  46]\n",
            " [ 46  51]\n",
            " [ 46  46]\n",
            " [ 46  56]\n",
            " [ 46  55]\n",
            " [ 47  52]\n",
            " [ 47  59]\n",
            " [ 48  51]\n",
            " [ 48  59]\n",
            " [ 48  50]\n",
            " [ 48  48]\n",
            " [ 48  59]\n",
            " [ 48  47]\n",
            " [ 49  55]\n",
            " [ 49  42]\n",
            " [ 50  49]\n",
            " [ 50  56]\n",
            " [ 54  47]\n",
            " [ 54  54]\n",
            " [ 54  53]\n",
            " [ 54  48]\n",
            " [ 54  52]\n",
            " [ 54  42]\n",
            " [ 54  51]\n",
            " [ 54  55]\n",
            " [ 54  41]\n",
            " [ 54  44]\n",
            " [ 54  57]\n",
            " [ 54  46]\n",
            " [ 57  58]\n",
            " [ 57  55]\n",
            " [ 58  60]\n",
            " [ 58  46]\n",
            " [ 59  55]\n",
            " [ 59  41]\n",
            " [ 60  49]\n",
            " [ 60  40]\n",
            " [ 60  42]\n",
            " [ 60  52]\n",
            " [ 60  47]\n",
            " [ 60  50]\n",
            " [ 61  42]\n",
            " [ 61  49]\n",
            " [ 62  41]\n",
            " [ 62  48]\n",
            " [ 62  59]\n",
            " [ 62  55]\n",
            " [ 62  56]\n",
            " [ 62  42]\n",
            " [ 63  50]\n",
            " [ 63  46]\n",
            " [ 63  43]\n",
            " [ 63  48]\n",
            " [ 63  52]\n",
            " [ 63  54]\n",
            " [ 64  42]\n",
            " [ 64  46]\n",
            " [ 65  48]\n",
            " [ 65  50]\n",
            " [ 65  43]\n",
            " [ 65  59]\n",
            " [ 67  43]\n",
            " [ 67  57]\n",
            " [ 67  56]\n",
            " [ 67  40]\n",
            " [ 69  58]\n",
            " [ 69  91]\n",
            " [ 70  29]\n",
            " [ 70  77]\n",
            " [ 71  35]\n",
            " [ 71  95]\n",
            " [ 71  11]\n",
            " [ 71  75]\n",
            " [ 71   9]\n",
            " [ 71  75]\n",
            " [ 72  34]\n",
            " [ 72  71]\n",
            " [ 73   5]\n",
            " [ 73  88]\n",
            " [ 73   7]\n",
            " [ 73  73]\n",
            " [ 74  10]\n",
            " [ 74  72]\n",
            " [ 75   5]\n",
            " [ 75  93]\n",
            " [ 76  40]\n",
            " [ 76  87]\n",
            " [ 77  12]\n",
            " [ 77  97]\n",
            " [ 77  36]\n",
            " [ 77  74]\n",
            " [ 78  22]\n",
            " [ 78  90]\n",
            " [ 78  17]\n",
            " [ 78  88]\n",
            " [ 78  20]\n",
            " [ 78  76]\n",
            " [ 78  16]\n",
            " [ 78  89]\n",
            " [ 78   1]\n",
            " [ 78  78]\n",
            " [ 78   1]\n",
            " [ 78  73]\n",
            " [ 79  35]\n",
            " [ 79  83]\n",
            " [ 81   5]\n",
            " [ 81  93]\n",
            " [ 85  26]\n",
            " [ 85  75]\n",
            " [ 86  20]\n",
            " [ 86  95]\n",
            " [ 87  27]\n",
            " [ 87  63]\n",
            " [ 87  13]\n",
            " [ 87  75]\n",
            " [ 87  10]\n",
            " [ 87  92]\n",
            " [ 88  13]\n",
            " [ 88  86]\n",
            " [ 88  15]\n",
            " [ 88  69]\n",
            " [ 93  14]\n",
            " [ 93  90]\n",
            " [ 97  32]\n",
            " [ 97  86]\n",
            " [ 98  15]\n",
            " [ 98  88]\n",
            " [ 99  39]\n",
            " [ 99  97]\n",
            " [101  24]\n",
            " [101  68]\n",
            " [103  17]\n",
            " [103  85]\n",
            " [103  23]\n",
            " [103  69]\n",
            " [113   8]\n",
            " [113  91]\n",
            " [120  16]\n",
            " [120  79]\n",
            " [126  28]\n",
            " [126  74]\n",
            " [137  18]\n",
            " [137  83]]\n"
          ]
        }
      ]
    },
    {
      "cell_type": "markdown",
      "source": [
        "[Annual_income, Spending_score] --- all the values are saved in X in this formate"
      ],
      "metadata": {
        "id": "7EG14iKcSSJK"
      }
    },
    {
      "cell_type": "code",
      "source": [
        "# Choosing the correct number of cluster\n",
        "# [WCSS -- Within Cluster Sum of Squares ] -- we will this value for different number of clusters\n",
        "# We will check which cluster have the lowest Wcss value\n",
        "# Elbow Method\n",
        "\n",
        "wcss = []\n",
        "\n",
        "for i in range(1,11):\n",
        "  kmeans = KMeans(n_clusters=i, init='k-means++', random_state=42)\n",
        "  kmeans.fit(X)\n",
        "  wcss.append(kmeans.inertia_)\n",
        "\n",
        "# Plot the elbow graph\n",
        "sns.set()\n",
        "plt.plot(range(1,11), wcss)\n",
        "plt.title('The Elbow Point Graph')\n",
        "plt.xlabel('Number of clusters')\n",
        "plt.ylabel('WCSS')\n",
        "plt.show()"
      ],
      "metadata": {
        "colab": {
          "base_uri": "https://localhost:8080/",
          "height": 869
        },
        "id": "0Hx1ZLxFSOk8",
        "outputId": "765b010e-5303-4972-b2a3-0aac07e92be3"
      },
      "execution_count": 24,
      "outputs": [
        {
          "output_type": "stream",
          "name": "stderr",
          "text": [
            "/usr/local/lib/python3.10/dist-packages/sklearn/cluster/_kmeans.py:1416: FutureWarning: The default value of `n_init` will change from 10 to 'auto' in 1.4. Set the value of `n_init` explicitly to suppress the warning\n",
            "  super()._check_params_vs_input(X, default_n_init=10)\n",
            "/usr/local/lib/python3.10/dist-packages/sklearn/cluster/_kmeans.py:1416: FutureWarning: The default value of `n_init` will change from 10 to 'auto' in 1.4. Set the value of `n_init` explicitly to suppress the warning\n",
            "  super()._check_params_vs_input(X, default_n_init=10)\n",
            "/usr/local/lib/python3.10/dist-packages/sklearn/cluster/_kmeans.py:1416: FutureWarning: The default value of `n_init` will change from 10 to 'auto' in 1.4. Set the value of `n_init` explicitly to suppress the warning\n",
            "  super()._check_params_vs_input(X, default_n_init=10)\n",
            "/usr/local/lib/python3.10/dist-packages/sklearn/cluster/_kmeans.py:1416: FutureWarning: The default value of `n_init` will change from 10 to 'auto' in 1.4. Set the value of `n_init` explicitly to suppress the warning\n",
            "  super()._check_params_vs_input(X, default_n_init=10)\n",
            "/usr/local/lib/python3.10/dist-packages/sklearn/cluster/_kmeans.py:1416: FutureWarning: The default value of `n_init` will change from 10 to 'auto' in 1.4. Set the value of `n_init` explicitly to suppress the warning\n",
            "  super()._check_params_vs_input(X, default_n_init=10)\n",
            "/usr/local/lib/python3.10/dist-packages/sklearn/cluster/_kmeans.py:1416: FutureWarning: The default value of `n_init` will change from 10 to 'auto' in 1.4. Set the value of `n_init` explicitly to suppress the warning\n",
            "  super()._check_params_vs_input(X, default_n_init=10)\n",
            "/usr/local/lib/python3.10/dist-packages/sklearn/cluster/_kmeans.py:1416: FutureWarning: The default value of `n_init` will change from 10 to 'auto' in 1.4. Set the value of `n_init` explicitly to suppress the warning\n",
            "  super()._check_params_vs_input(X, default_n_init=10)\n",
            "/usr/local/lib/python3.10/dist-packages/sklearn/cluster/_kmeans.py:1416: FutureWarning: The default value of `n_init` will change from 10 to 'auto' in 1.4. Set the value of `n_init` explicitly to suppress the warning\n",
            "  super()._check_params_vs_input(X, default_n_init=10)\n",
            "/usr/local/lib/python3.10/dist-packages/sklearn/cluster/_kmeans.py:1416: FutureWarning: The default value of `n_init` will change from 10 to 'auto' in 1.4. Set the value of `n_init` explicitly to suppress the warning\n",
            "  super()._check_params_vs_input(X, default_n_init=10)\n",
            "/usr/local/lib/python3.10/dist-packages/sklearn/cluster/_kmeans.py:1416: FutureWarning: The default value of `n_init` will change from 10 to 'auto' in 1.4. Set the value of `n_init` explicitly to suppress the warning\n",
            "  super()._check_params_vs_input(X, default_n_init=10)\n"
          ]
        },
        {
          "output_type": "display_data",
          "data": {
            "text/plain": [
              "<Figure size 640x480 with 1 Axes>"
            ],
            "image/png": "[encoded data removed]"
          },
          "metadata": {}
        }
      ]
    },
    {
      "cell_type": "markdown",
      "source": [
        "This is a elbow point graph or cut off point graph"
      ],
      "metadata": {
        "id": "-Tvc3JMtU11i"
      }
    },
    {
      "cell_type": "markdown",
      "source": [
        "![image.png](data:image/png;base64,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)"
      ],
      "metadata": {
        "id": "b9CxrDTTUjQK"
      }
    },
    {
      "cell_type": "markdown",
      "source": [
        " In the graph, 3 and 5 are the elbow value. After the point 5 there is no significant drop.\n",
        "\n",
        " So the number of clusters = 5\n",
        "\n"
      ],
      "metadata": {
        "id": "pFimrx8fUj_Z"
      }
    },
    {
      "cell_type": "code",
      "source": [
        "# Training the k-Mean Cluster Model\n",
        "kmeans = KMeans(n_clusters = 5, init = 'k-means++')\n",
        "\n",
        "# return a lebel for each cluster\n",
        "Y = kmeans.fit_predict(X)\n",
        "\n",
        "print(Y)"
      ],
      "metadata": {
        "colab": {
          "base_uri": "https://localhost:8080/"
        },
        "id": "0RpYSWuTTV91",
        "outputId": "6b782796-704b-4f48-87bd-914391642744"
      },
      "execution_count": 25,
      "outputs": [
        {
          "output_type": "stream",
          "name": "stdout",
          "text": [
            "[0 4 0 4 0 4 0 4 0 4 0 4 0 4 0 4 0 4 0 4 0 4 0 4 0 4 0 4 0 4 0 4 0 4 0 4 0\n",
            " 4 0 4 0 4 0 2 0 4 2 2 2 2 2 2 2 2 2 2 2 2 2 2 2 2 2 2 2 2 2 2 2 2 2 2 2 2\n",
            " 2 2 2 2 2 2 2 2 2 2 2 2 2 2 2 2 2 2 2 2 2 2 2 2 2 2 2 2 2 2 2 2 2 2 2 2 2\n",
            " 2 2 2 2 2 2 2 2 2 2 2 2 3 1 3 2 3 1 3 1 3 2 3 1 3 1 3 1 3 1 3 2 3 1 3 1 3\n",
            " 1 3 1 3 1 3 1 3 1 3 1 3 1 3 1 3 1 3 1 3 1 3 1 3 1 3 1 3 1 3 1 3 1 3 1 3 1\n",
            " 3 1 3 1 3 1 3 1 3 1 3 1 3 1 3]\n"
          ]
        },
        {
          "output_type": "stream",
          "name": "stderr",
          "text": [
            "/usr/local/lib/python3.10/dist-packages/sklearn/cluster/_kmeans.py:1416: FutureWarning: The default value of `n_init` will change from 10 to 'auto' in 1.4. Set the value of `n_init` explicitly to suppress the warning\n",
            "  super()._check_params_vs_input(X, default_n_init=10)\n"
          ]
        }
      ]
    },
    {
      "cell_type": "code",
      "source": [
        "# Visualizing the clusters and their centroids\n",
        "plt.figure(figsize=(8,8))\n",
        "plt.scatter(X[Y == 0, 0], X[Y == 0, 1], s = 50, c = 'red', label = 'Cluster 1')\n",
        "plt.scatter(X[Y == 1, 0], X[Y == 1, 1], s = 50, c = 'green', label = 'Cluster 2')\n",
        "plt.scatter(X[Y == 2, 0], X[Y == 2, 1], s = 50, c = 'blue', label = 'Cluster 3')\n",
        "plt.scatter(X[Y == 3, 0], X[Y == 3, 1], s = 50, c = 'orange', label = 'Cluster 4')\n",
        "plt.scatter(X[Y == 4, 0], X[Y == 4, 1], s = 50, c = 'purple', label = 'Cluster 5')\\\n",
        "\n",
        "plt.scatter(kmeans.cluster_centers_[:, 0], kmeans.cluster_centers_[:, 1], s = 100, c = 'black', label = 'Centroids')\n",
        "\n",
        "plt.title('Clusters of customers')\n",
        "plt.xlabel('Annual Income (k$)')\n",
        "plt.ylabel('Spending Score (1-100)')\n",
        "plt.legend()\n",
        "plt.show()"
      ],
      "metadata": {
        "colab": {
          "base_uri": "https://localhost:8080/",
          "height": 727
        },
        "id": "pSvi8cNdWaVE",
        "outputId": "7c482f52-5cd6-40ad-f2e8-00fdfb390b1c"
      },
      "execution_count": 32,
      "outputs": [
        {
          "output_type": "display_data",
          "data": {
            "text/plain": [
              "<Figure size 800x800 with 1 Axes>"
            ],
            "image/png": "[encoded data removed]"
          },
          "metadata": {}
        }
      ]
    },
    {
      "cell_type": "code",
      "source": [],
      "metadata": {
        "id": "HNCxdI6NWvTO"
      },
      "execution_count": null,
      "outputs": []
    }
  ]
}